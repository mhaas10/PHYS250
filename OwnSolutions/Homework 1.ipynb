{
 "cells": [
  {
   "cell_type": "markdown",
   "metadata": {},
   "source": [
    "# Homework 1: Testing Random Number Generators\n",
    "\n",
    "## Michael Haas  \n",
    "### Computational Physics 25000\n",
    "\n",
    "The goal of this homework is to compare the \"randomness\" of multiple PRNG's and to create visual data to confirm that the data is uniformly distributed over a given interval.\n",
    "\n",
    "Our first task is to quantitatively measure the effectiveness of the function numpy.random() as a random number generator. We will do so by collecting data on the chi-squared distribution and compare it to the analytical result of a chi-squared test.\n",
    "\n",
    "First, we shall import the relevant libraries for this code, numpy and matplotlib, as we shall use them to generate our random numbers and to verify their distributions."
   ]
  },
  {
   "cell_type": "code",
   "execution_count": 1,
   "metadata": {},
   "outputs": [],
   "source": [
    "import numpy as np\n",
    "import matplotlib.pyplot as mat\n",
    "from numpy import random as rng"
   ]
  },
  {
   "cell_type": "code",
   "execution_count": null,
   "metadata": {},
   "outputs": [],
   "source": [
    "num_test_outputs = 10\n",
    "rng.random(size=num_test_outputs)"
   ]
  }
 ],
 "metadata": {
  "kernelspec": {
   "display_name": "Python 3",
   "language": "python",
   "name": "python3"
  },
  "language_info": {
   "codemirror_mode": {
    "name": "ipython",
    "version": 3
   },
   "file_extension": ".py",
   "mimetype": "text/x-python",
   "name": "python",
   "nbconvert_exporter": "python",
   "pygments_lexer": "ipython3",
   "version": "3.7.0"
  }
 },
 "nbformat": 4,
 "nbformat_minor": 2
}
