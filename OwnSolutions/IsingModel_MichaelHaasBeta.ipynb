{
 "cells": [
  {
   "cell_type": "markdown",
   "metadata": {},
   "source": [
    "$$\\newcommand{\\mean}[1]     {\\langle #1 \\rangle}$$\n",
    "$$\\newcommand{\\spins}       {\\mathbb{S}}$$\n",
    "$$\\newcommand{\\spinsmu}     {\\mathbb{S}_{\\mu}}$$\n",
    "$$\\newcommand{\\spini}       {s_{i}}$$\n",
    "$$\\newcommand{\\spinj}       {s_{j}}$$\n",
    "$$\\newcommand{\\Ham}         {\\mathcal{H}}$$\n",
    "$$\\newcommand{\\kB}          {k_B}$$\n",
    "$$\\newcommand{\\ra}          {\\rightarrow}$$\n",
    "\n",
    "# Assignment 3: Ising model\n",
    "\n",
    "## Introduction\n",
    "\n",
    "In the lectures, we've been discussing the physics, some of the history, and the computational methods that underlie the analysis of the deceptively simple *Ising model*. In this assignment, you will bring much of that to bear by evaluating the evolution towards equilibrium of the Ising model system in 2 dimensions, and analyze the properties of the system once it reaches equilibrium. Given the extensive nature of this assigment, and the fact that it relies on much of what we have discussed so far, you have 2 weeks to complete it. That is, the assigments are due on *November 1st at 2pm* (via `GitHub` as usual).\n",
    "\n",
    "I will include some of the background material that we discussed in lecture also here in order to keep this assignment somewhat self contained."
   ]
  },
  {
   "cell_type": "markdown",
   "metadata": {},
   "source": [
    "## Table of Contents\n",
    "\n",
    "1. [Ising model](#ising-model)\n",
    "1. [Monte Carlo methods](#monte-carlo)\n",
    "1. [The Metropolis algorithm](#metropolis)\n",
    "1. [Assignment description](#assignment)\n",
    "    1. [Exercise 1: Basic lattice setup](#ex1)\n",
    "    1. [Exercise 2: Randomly choose & flip a lattice point](#ex2)\n",
    "    1. [Exercise 3: Nearest neighbors](#ex3)\n",
    "    1. [Exercise 4: Calculating the energy of the lattice](#ex4)\n",
    "    1. [Exercise 5: Calculate the magnetisation of the lattice](#ex5)\n",
    "    1. [Exercise 6: Implement the Metropolis algorithm](#ex6)\n",
    "    1. [Exercise 7: Perform measurements](#ex7)\n",
    "\n",
    "***"
   ]
  },
  {
   "cell_type": "markdown",
   "metadata": {},
   "source": [
    "## The Ising Model <a class=\"anchor\" name=\"ising-model\"></a>\n",
    "\n",
    "In seeking to explain a particular phenomenon in physics, namely the onset of ferromagnetism, Wilhelm Lenz proposed in 1924 that his PhD student, Ernst Ising, should solve a puzzling 1-dimensional model of  [[arXiv:1706.01764](https://arxiv.org/abs/1706.01764)]. This model was meant to attempt to describe the interaction of \n",
    "\n",
    "> \"elementary magnetic units, which prefer alignment\"\n",
    "\n",
    "a problem which belonged to the new and undeveloped quantum mechanics. In order to make any progress at all, Ising started in 1 dimension with the task of calculating analytically the macroscopic magnetization with the methods of statistical mechanics. This deceptively *\"simple\"* model for a set of spin states $\\mathbb{S} = \\{s_i\\}$, with a Hamiltonian, $\\Ham$, for a given interaction coupling, $J$, and magnetic field, $H$, given by:\n",
    "\n",
    "  \\begin{equation}\n",
    "    \\Ham = -J \\sum_{\\mean{ij}}^N \\spini \\spinj - H \\sum_i \\spini \"\n",
    "  \\end{equation} \n",
    "\n",
    "Given a set of $N$ spins, the Ising model has $2^N$ states $\\mathbb{S} = \\{s_i\\}$ in $d=2$ dimensions. \n",
    "\n",
    "* What happens to the system when we let it evolve according to the laws of statistical mechanics? \n",
    "* Does the average spin remain random? \n",
    "* How does the application of an external field affect its evolution? \n",
    "* Can we calculate a specific heat for this system (the temperature change required to raise the system's energy by a given amount)?\n",
    "\n",
    "The energy $E_{\\mu}$ of a particular microstate $\\mu$ of this (discrete) system is given by the operator \\Ham acting on that microstate, or specific  $\\spins = \\spinsmu$. We assume that although the system is in an $\\bluebf{equilibrium state}$ (i.e. the energy of a particular element is proportional to the temperature, $T$), it is a dynamic one in which each element's energy fluctuates as it exchanges energy with its environment. The probability for the ensemble \\spins to have energy $E_{\\mu}$ is \n",
    "  \n",
    "  \\begin{equation}\n",
    "    P(\\spinsmu) = \\frac{e^{-\\beta E_{\\mu}}}{\\sum_{\\mu} e^{-\\beta E_{\\mu}}},\n",
    "  \\end{equation} \n",
    "\n",
    "  And the mean and variance of the energy $\\mean{E}$ (or *any* observable) is given by \n",
    "  \n",
    "  \\begin{eqnarray}\n",
    "    \\mean{E} &=& \\sum_{\\mu} E_{\\mu} P(\\spinsmu) = \\frac{1}{Z} \\sum_{\\mu} E_{\\mu} e^{-\\beta E_{\\mu}} \\\\\n",
    "    Var(E) = \\mean{(E-\\mean{E}^2)^2} &=& \\sum_{\\mu} E^2_{\\mu} P(\\spinsmu) - \\left( \\sum_{\\mu} E_{\\mu} P(\\spinsmu) \\right)^2\n",
    "  \\end{eqnarray} \n",
    "  \n",
    "  \n",
    "***"
   ]
  },
  {
   "cell_type": "markdown",
   "metadata": {},
   "source": [
    "##  Monte Carlo Methods <a class=\"anchor\" name=\"monte-carlo\"></a>\n",
    "\n",
    "There is essentially only one known numerical method for calculating the partition function of a model such as the Ising model on a large lattice, and that method is *Monte Carlo simulation*. \n",
    "  \n",
    "* If we are clever enough, we can obtain a *relatively good estimate* by only performing a *subset* of the calculations, $\\{\\mu\\}$ instead of all $\\mu$\n",
    "* One way to be clever is to only sample the distribution that we are attempting to model, $P(\\spinsmu)$ in regions where it is important.\n",
    "* To put it another way, we want to perform a *weighted sampling*\n",
    "\n",
    "  \\begin{eqnarray}\n",
    "    \\mean{E} &=& \\frac{\\sum_{\\{\\mu\\}} E_{\\mu} e^{-\\beta E_{\\mu}} W_{\\mu}^{-1}}{\\sum_{\\{\\mu\\}} e^{-\\beta E_{\\mu}} W_{\\mu}^{-1}} \\\\\n",
    "       &\\approx& \\frac{\\sum_{\\{\\mu\\}} E_{\\mu}}{\\sum_{\\{\\mu\\}} 1} \\\\\n",
    "       &=& \\frac{1}{N^{\\prime}}\\sum_{\\{\\mu\\}} E_{\\mu}\n",
    "  \\end{eqnarray} \n",
    "\n",
    "  where $N^{\\prime}$ is the number of terms in the subset $\\{\\mu\\}$ and $W_{\\mu} = e^{- \\beta E_{\\mu}}/Z$. Here, I have already set the weighting function to be the Boltzmann factor because of our discussion in lecture about the Metropolis algorithm."
   ]
  },
  {
   "cell_type": "markdown",
   "metadata": {},
   "source": [
    "## The Metropolis algorithm <a class=\"anchor\" name=\"metropolis\"></a>\n",
    "\n",
    "In the famous paper *\"Equation of State Calculations by Fast Computing Machines\"*, Nicholas Metropolis, Arianna W. Rosenbluth, Marshall N. Rosenbluth, Augusta H. Teller, and Edward Teller proposed to use a Boltzmann factor for attempting the *trials* for a given change in configuration of the lattice.\n",
    "\n",
    "There are two major assumptions and principles that enter into the ability to use the Metropolis algorithm:\n",
    "\n",
    "1. Ergodicity\n",
    "1. Detailed balance\n",
    "\n",
    "For *ergodicity*, the method must allow that for a sufficiently long period of time, *all accessible microstates will be sampled*. A corollary is that the time spent by a system in some region of the phase space of microstates with the same energy is proportional to the volume of this region. \n",
    "\n",
    "The implication for our computational approach is that in principle, it should be *possible for our Markov process to reach any state of the system from any other state*, if we run it for long enough. \n",
    "  \n",
    "The condition of ergodicity tells us that we are allowed to make some of the transition probabilities of our Markov process zero, but that there must be at least one path of non-zero transition probabilities between any two states that we pick. \n",
    "  \n",
    "In practice, most Monte Carlo algorithms set almost all of the transition probabilities to zero, and we *must be careful that in so doing we do not create an algorithm which violates ergodicity*.\n",
    "\n",
    "The *detailed balance* equation then tells us that the transition probabilities should satisfy\n",
    "  \n",
    "  \\begin{equation}\n",
    "    \\frac{P(\\mu \\ra \\nu)}{P(\\nu \\ra \\mu)} = \\frac{P(\\spins_{\\nu})}{P(\\spins_{\\mu})} = e^{- \\beta (E_{\\nu} - E_{\\mu})} = e^{- \\beta \\Delta E}\n",
    "  \\end{equation}\n",
    "  \n",
    "This equation and the requirement that the sum of all probabilities is unity are the basic constraints on our choice of transition probabilities. If we satisfy these, as well as the condition of ergodicity, then the equilibrium distribution of states in our Markov process will be the Boltzmann distribution. It is also useful to break this down a bit further:\n",
    "\n",
    "  \\begin{eqnarray}\n",
    "    P(\\mu \\ra \\nu) &=& g(\\mu \\ra \\nu) A(\\mu \\ra \\nu) \\\\\n",
    "    \\frac{P(\\mu \\ra \\nu)}{P(\\nu \\ra \\mu)} &=& \\frac{g(\\mu \\ra \\nu) A(\\mu \\ra \\nu)}{g(\\nu \\ra \\mu) A(\\nu \\ra \\mu)}\n",
    "  \\end{eqnarray}\n",
    " \n",
    "where $g$ is a *selection probability* and $A$ is the *acceptance ratio* or *acceptance probability*.\n",
    "\n",
    "* $g(\\mu \\ra \\nu)$ **is the selection probability**\n",
    "    * this is the probability, given an initial state $\\mu$, that our algorithm will generate a new target state $\\nu$. \n",
    "* $A(\\mu \\ra \\nu)$ **is the acceptance probability**\n",
    "    * The acceptance ratio says that if we start off in a state $\\mu$ and our algorithm generates a new state $\\nu$ from it, we should accept that state and change our system to the new state $\\nu$ a fraction of the time $A(\\mu \\ra \\nu)$. \n",
    "    * The rest of the time we should just stay in the state $\\mu$.\n",
    "    * If the acceptance ratios for our moves are low, then the algorithm will on most time steps simply stay in the state.\n",
    "\n",
    "  \n",
    "In the Metropolis algorithm the selection probabilities $g(\\mu \\ra \\nu)$ for each of the possible states $\\nu$ are all chosen to be equal.\n",
    "\n",
    "***"
   ]
  },
  {
   "cell_type": "markdown",
   "metadata": {},
   "source": [
    "## Assignment description <a class=\"anchor\" name=\"assignment\"></a>\n",
    "\n",
    "In this assignment, you will fully simulate and then evaluate the 2-dimensional Ising model for system of spins that can be either spin up or spin down. There are several parts or exercises to this assignment, so read carefully and please ask questions if anything is unclear! \n",
    "\n",
    "*Please note:* I will give you much of what needs to be used here, and we will actively develop some of it in lectures during Week 4 as well, so don't get too worried about the apparent length. \n",
    "\n",
    "Also, Excercises 1-6 are effectively meant to walk you through the development phase of the computational algorithm. If you have your own conception of the design of this piece of software that you wish to use, please feel free to do so, as long as it is sufficiently well documented what you have done and how to run it. \n"
   ]
  },
  {
   "cell_type": "code",
   "execution_count": 2,
   "metadata": {},
   "outputs": [],
   "source": [
    "# Import the usual numpy and matplotlib libraries for numerical operations and plotting\n",
    "import numpy as np\n",
    "import matplotlib.pyplot as plt\n",
    "from numpy import random as rng\n",
    "import datetime,timeit\n",
    "from mpl_toolkits.mplot3d import Axes3D"
   ]
  },
  {
   "cell_type": "markdown",
   "metadata": {},
   "source": [
    "### Exercise 1: Basic lattice setup <a class=\"anchor\" name=\"ex1\"></a>\n",
    "Here I just want you to write a few functions that will fill a lattice. I will provide some suggestions in the Jupyter notebook provided as a starting point. \n",
    "\n",
    "I suggest that you create 3 functions:\n",
    "1. `normallattice`: create $N\\times M$ lattice with uniform spin values\n",
    "1. `randomlattice`: create $N\\times M$ lattice with random spin values\n",
    "1. `plotlattice`: plot an image of the lattice with a colour code for the spin"
   ]
  },
  {
   "cell_type": "code",
   "execution_count": 3,
   "metadata": {},
   "outputs": [],
   "source": [
    "# Uniform Lattice creation\n",
    "spin_mag = 5\n",
    "def normallattice(N, M, value=0):\n",
    "    '''\n",
    "    This function returns an N (rows) x M (columns) lattice with identical values value\n",
    "    '''\n",
    "    \n",
    "    return np.full((N, M), value)\n"
   ]
  },
  {
   "cell_type": "code",
   "execution_count": 4,
   "metadata": {},
   "outputs": [],
   "source": [
    "# Random Lattice creation\n",
    "def randomlattice(N, M):\n",
    "    '''\n",
    "    This function returns an N (rows) x M (columns) lattice with randomized spin values 0 or 1\n",
    "    '''\n",
    "    return rng.choice([-1,1], (N, M))\n"
   ]
  },
  {
   "cell_type": "code",
   "execution_count": 5,
   "metadata": {},
   "outputs": [],
   "source": [
    "def plotlattice(lattice,spin_mag = 5):\n",
    "    plt.imshow(lattice,cmap = \"bwr\")\n",
    "    plt.colorbar(ticks = [-1,1])\n",
    "    plt.show()"
   ]
  },
  {
   "cell_type": "markdown",
   "metadata": {},
   "source": [
    "### Exercise 2: Randomly choose & flip a lattice point <a class=\"anchor\" name=\"ex2\"></a>\n",
    "We now need two functions:\n",
    "1. a function to randomly select one of the particles in the lattice and return its coordinates $(i,j)$. \n",
    "1. a function to flip the spin of the particle pointed by the $(i,j)$ indices and return the new lattice state."
   ]
  },
  {
   "cell_type": "code",
   "execution_count": 6,
   "metadata": {},
   "outputs": [],
   "source": [
    "def pickpoint(lattice):\n",
    "    \n",
    "    i = rng.randint(0,len(lattice))\n",
    "    j = rng.randint(0,len(lattice[0]))\n",
    "    return i,j\n",
    "def flip_spin(lattice,i,j):\n",
    "    lattice[i][j] = -1*lattice[i][j]\n",
    "    return lattice\n",
    "\n",
    "def random_flip(lattice):\n",
    "    i,j = pickpoint(lattice)\n",
    "    lattice = flip_spin(lattice,i,j)\n",
    "    return lattice\n",
    "\n",
    "\n",
    "\n",
    "def pickpoint3D(lattice):\n",
    "    \n",
    "    i = rng.randint(0,len(lattice))\n",
    "    j = rng.randint(0,len(lattice[0]))\n",
    "    k = rng.randint(0,len(lattice[0][0]))\n",
    "    return i,j,k\n"
   ]
  },
  {
   "cell_type": "markdown",
   "metadata": {},
   "source": [
    "### Exercise 3: Nearest neighbors <a class=\"anchor\" name=\"ex3\"></a>\n",
    "A key element of this model is calculating the combined spin state of the 4 nearest neighbors around a given lattice point $(i,j)$.\n",
    "\n",
    "Write a function to return the combined spin state and which respects periodic boundary conditions.\n",
    "\n",
    "I suggest that you develop your code with a *small*, say, 5x5 lattice. Once you have convinced yourself that this functions correctly, you can move to the next item and also expand your lattice (no use debugging a big model that takes lots of time to evaluate)."
   ]
  },
  {
   "cell_type": "code",
   "execution_count": 7,
   "metadata": {},
   "outputs": [],
   "source": [
    "def neighborsSum(lattice, i, j):\n",
    "    '''\n",
    "    Sums the spins of the lattice points at four neighbor sites.\n",
    "        Takes into account the size of the lattice in \n",
    "        terms of number of rows (i) and columns (j),\n",
    "        thus implementing periodic boundary conditions.\n",
    "    '''\n",
    "    ip1 = (i + 1) % len(lattice)\n",
    "    im1 = (i - 1) % len(lattice)\n",
    "    jp1 = (j + 1) % len(lattice[0])\n",
    "    jm1 = (j - 1) % len(lattice[0])\n",
    "        \n",
    "\n",
    "    return (lattice[ip1][j] + lattice[im1][j]\n",
    "                + lattice[i][jp1] + lattice[i][jm1])\n",
    " "
   ]
  },
  {
   "cell_type": "markdown",
   "metadata": {},
   "source": [
    "### Exercise 4: Calculating the energy of the lattice <a class=\"anchor\" name=\"ex4\"></a>\n",
    "The local energy is defined as the total interaction energy between the selected particle and its immediate neighbours. \n",
    "\n",
    "1. write a function to calculate this.\n",
    "1. also write a function to calculate the total energy of the lattice.\n",
    "\n",
    "Again, I suggest that you perform some tests with a simple 5x5 lattice, for example:\n",
    "1. Compare the energy of the lattice for different configuations of spins. \n",
    "1. What is the total energy of the system when all spins point up or down or randomly? \n",
    "\n",
    "\n",
    "Pseudo Code\n",
    "1. Iterarate over all lattice  sites\n",
    "2. Calculate the local energy at that site\n",
    "3. Create a sum of all these local sites \n",
    "\n",
    "def localenergy(lattice,i,j)\n",
    "This function will essentially be -Jlattice[i][j] *neighborSums[i][j]\n",
    "\n",
    "def totalenergy(lattice):\n",
    "sumEnergy = 0\n",
    "for i in rows:\n",
    "for j in columns:\n",
    "sum += localenergy(lattice,i,j)"
   ]
  },
  {
   "cell_type": "code",
   "execution_count": 8,
   "metadata": {},
   "outputs": [],
   "source": [
    "def localEnergy(lattice,i,j,J=1,H=0):\n",
    "    return -J*lattice[i][j]*neighborsSum(lattice,i,j)\n",
    "def totalEnergy(lattice,J=1,H=0):\n",
    "    sumEnergy = 0\n",
    "    for i in range(len(lattice)):\n",
    "        for j in range(len(lattice[i])):\n",
    "            sumEnergy += localEnergy(lattice,i,j,J=J)\n",
    "    sumEnergy += -H*totalMagnetization(lattice)\n",
    "    return sumEnergy\n"
   ]
  },
  {
   "cell_type": "markdown",
   "metadata": {},
   "source": [
    "### Exercise 5: Calculate the magnetisation of the lattice <a class=\"anchor\" name=\"ex5\"></a>\n",
    "Implement functions to calculate \n",
    "\n",
    "1. The total magnetisation of the lattice\n",
    "1. The magnetisation per spin\n",
    "\n",
    "Again, I suggest that you perform some tests with a simple 5x5 lattice first, for example:\n",
    "1. What will be the value of $m$ if all spins are aligned up? what if all the spins are aligned down? What if half of the spins are up and half are down?\n",
    "1. Set an initial condition with $m = 1.0$, that is all the spins point up. Try to perturb a few particles and recalculate the magnetisation\n",
    "\n",
    "np.sum(lattice) = totmagnetisation (Look at documentation)\n",
    "\n"
   ]
  },
  {
   "cell_type": "code",
   "execution_count": 9,
   "metadata": {},
   "outputs": [],
   "source": [
    "def totalMagnetization(lattice):\n",
    "    totMag =np.sum(lattice)\n",
    "    return totMag\n",
    "def perMagnetization(lattice):\n",
    "    totMag = np.sum(lattice)\n",
    "    perMag = totMag/(len(lattice)*len(lattice[0]))\n",
    "    return perMag\n",
    "\n",
    "\n"
   ]
  },
  {
   "cell_type": "markdown",
   "metadata": {},
   "source": [
    "### Exercise 6: Implement the Metropolis algorithm <a class=\"anchor\" name=\"ex6\"></a>\n",
    "At this point in your the code you should have all the nesscessary functions properly implemented and the thermodynamic simulation of the system can take place. \n",
    "\n",
    "1. Set up the system in an initial configuration\n",
    "1. Choose one of the particles at random using a Markov Monte Carlo approach\n",
    "1. Calculate the energy change $\\Delta E$ of the system if the spin of the chosen particle is flipped\n",
    "1. If $\\Delta E$  is negative, then select to flip the spin and go to step 7, otherwise ....\n",
    "1. Generate a random number $r$ such that $0 < r < 1$\n",
    "1. If this number is less than the probability of $\\Delta E$ i.e. $r < e^{-\\Delta E/\\kB T}$, then flip the spin. \n",
    "1. Choose another spin of the lattice at random and repeat steps 2 to 6 a chosen number of times ($N_{MCS}$)"
   ]
  },
  {
   "cell_type": "markdown",
   "metadata": {},
   "source": [
    "Now we shall implement the Metropolis algorithim. We shall first begin by setting up a lattice."
   ]
  },
  {
   "cell_type": "code",
   "execution_count": null,
   "metadata": {},
   "outputs": [],
   "source": []
  },
  {
   "cell_type": "markdown",
   "metadata": {},
   "source": [
    "Next, we shall pick an element at random to begin. We shall calculate the energy with this spin unflipped, and then we shall flip it and see what the change in energy was."
   ]
  },
  {
   "cell_type": "code",
   "execution_count": null,
   "metadata": {},
   "outputs": [],
   "source": []
  },
  {
   "cell_type": "code",
   "execution_count": 10,
   "metadata": {},
   "outputs": [],
   "source": [
    "def metropolisInefficient(lattice,Num_Steps,T=1,J=1,H=0):\n",
    "    N = len(lattice)\n",
    "    M = len(lattice[0])\n",
    "    magneticMag = np.zeros(Num_Steps)\n",
    "    print('J = ' + str(J) + ', T = '+ str(T), 'H = ' + str(H))\n",
    "    print(\"Initial Magnetization = \" + str(totalMagnetization(lattice)))\n",
    "    plotlattice(lattice)\n",
    "    for k in range(Num_Steps):\n",
    "        initEnergy = totalEnergy(lattice,H)\n",
    "\n",
    "    #We have calculated our initial energy of the system\n",
    "        i = rng.randint(0,N)\n",
    "        j = rng.randint(0,M)\n",
    "    ## Now we shall flip our spin, calculate the energy, and then flip the spin back. This saves us the trouble of\n",
    "    #dealing with object stuff.\n",
    "\n",
    "        flip_spin(lattice,i,j)\n",
    "        finalEnergy = totalEnergy(lattice,H)\n",
    "    #Now that we have flipped back our spin, we can calculate deltaEnergy.\n",
    "        deltaEnergy =finalEnergy-initEnergy\n",
    "        flip_spin(lattice,i,j)\n",
    "        if deltaEnergy <= 0:\n",
    "            flip_spin(lattice,i,j)\n",
    "        else:\n",
    "            r = rng.random()\n",
    "            if r<np.exp(-1*deltaEnergy/T):\n",
    "                flip_spin(lattice,i,j)\n",
    "        if (k%(Num_Steps/10)) == 0:\n",
    "            print(str((k/(Num_Steps/10))*10) + \" percent\")\n",
    "            plotlattice(lattice)\n",
    "        magneticMag[k] = totalMagnetization(lattice)\n",
    "    plotlattice(lattice)\n",
    "    print(\"Final Magnetization = \" + str(totalMagnetization(lattice)))\n",
    "    return lattice,magneticMag"
   ]
  },
  {
   "cell_type": "code",
   "execution_count": 11,
   "metadata": {},
   "outputs": [],
   "source": [
    "def metropolisSimple(lattice,Num_Steps,H=0):\n",
    "    N = len(lattice)\n",
    "    M = len(lattice[0])\n",
    "    print(\"Initial Magnetization = \" + str(totalMagnetization(lattice)))\n",
    "    plotlattice(lattice)\n",
    "    for k in range(Num_Steps):\n",
    "    #We have calculated our initial energy of the system\n",
    "        i = rng.randint(N)\n",
    "        j = rng.randint(M)\n",
    "    ## Now we shall flip our spin, calculate the energy, and then flip the spin back. This saves us the trouble of\n",
    "    #dealing with object stuff.\n",
    "        localEnergy1 = localEnergy(lattice,(i+1)% len(lattice) ,j) + localEnergy(lattice,(i-1) % len(lattice),j) + localEnergy(lattice,i,(j+1) % len(lattice[0])) + localEnergy(lattice,i,(j-1) %len(lattice[0]))\n",
    "        flip_spin(lattice,i,j)\n",
    "        localEnergy2 = localEnergy(lattice,(i+1)% len(lattice),j) + localEnergy(lattice,(i-1)% len(lattice),j) + localEnergy(lattice,i,(j+1) % len(lattice[0])) + localEnergy(lattice,i,(j-1) % len(lattice[0]))\n",
    "    #Now that we have flipped back our spin, we can calculate deltaEnergy.\n",
    "        deltaEnergy =2*(localEnergy2 - localEnergy1)\n",
    "        T=1\n",
    "        if deltaEnergy > 0:\n",
    "            r = rng.random()\n",
    "            if r>=np.exp(-1*deltaEnergy/T):\n",
    "                flip_spin(lattice,i,j)\n",
    "        if (k%(Num_Steps/10)) == 0:\n",
    "            print(str((k/(Num_Steps/10))*10) + \" percent\")\n",
    "            plotlattice(lattice)\n",
    "    plotlattice(lattice)\n",
    "    print(\"Final Magnetization = \" + str(totalMagnetization(lattice)))\n",
    "    return lattice"
   ]
  },
  {
   "cell_type": "code",
   "execution_count": 12,
   "metadata": {},
   "outputs": [
    {
     "name": "stdout",
     "output_type": "stream",
     "text": [
      "1\n"
     ]
    }
   ],
   "source": [
    "print(rng.randint(5))"
   ]
  },
  {
   "cell_type": "code",
   "execution_count": 26,
   "metadata": {},
   "outputs": [],
   "source": [
    "def metropolisCustom(lattice,Num_Steps,T=1,J=1,H=0):\n",
    "    N = len(lattice)\n",
    "    M = len(lattice[0])\n",
    "    magneticMag = []\n",
    "    print(\"Initial Magnetization = \" + str(totalMagnetization(lattice)))\n",
    "    print('J = ' + str(J) + ', T = '+ str(T), 'H = ' + str(H))\n",
    "    plotlattice(lattice)\n",
    "    for k in range(Num_Steps):\n",
    "    #We have calculated our initial energy of the system\n",
    "        i = rng.randint(N)\n",
    "        j = rng.randint(M)\n",
    "    ## Now we shall flip our spin, calculate the energy, and then flip the spin back. This saves us the trouble of\n",
    "    \n",
    "    #dealing with object stuff.\n",
    "        if H == 0:\n",
    "            localEnergy1 = localEnergy(lattice,i,j,J)+ localEnergy(lattice,(i+1)% len(lattice) ,j,J) + localEnergy(lattice,(i-1) % len(lattice),j,J) + localEnergy(lattice,i,(j+1) % len(lattice[0]),J) + localEnergy(lattice,i,(j-1) %len(lattice[0]),J)\n",
    "            flip_spin(lattice,i,j)\n",
    "            localEnergy2 = localEnergy(lattice,i,j,J)+ localEnergy(lattice,(i+1)% len(lattice),j,J) + localEnergy(lattice,(i-1)% len(lattice),j,J) + localEnergy(lattice,i,(j+1) % len(lattice[0]),J) + localEnergy(lattice,i,(j-1) % len(lattice[0]),J)\n",
    "        else:\n",
    "            localEnergy1 = localEnergy(lattice,i,j,J)+ localEnergy(lattice,(i+1)% len(lattice) ,j,J) + localEnergy(lattice,(i-1) % len(lattice),j,J) + localEnergy(lattice,i,(j+1) % len(lattice[0]),J) + localEnergy(lattice,i,(j-1) %len(lattice[0]),J) - H*totalMagnetization(lattice)\n",
    "            flip_spin(lattice,i,j)\n",
    "            localEnergy2 = localEnergy(lattice,i,j,J)+ localEnergy(lattice,(i+1)% len(lattice),j,J) + localEnergy(lattice,(i-1)% len(lattice),j,J) + localEnergy(lattice,i,(j+1) % len(lattice[0]),J) + localEnergy(lattice,i,(j-1) % len(lattice[0]),J) - H*totalMagnetization(lattice)\n",
    "        flip_spin(lattice,i,j)\n",
    "    #Now that we have flipped back our spin, we can calculate deltaEnergy.\n",
    "        deltaEnergy =(localEnergy2 - localEnergy1)\n",
    "        if deltaEnergy<=0:\n",
    "            flip_spin(lattice,i,j)\n",
    "        else:\n",
    "            r = rng.random()\n",
    "            if r<np.exp(-1*deltaEnergy/T):\n",
    "                flip_spin(lattice,i,j)\n",
    "#         if (k%(Num_Steps/10)) == 0:\n",
    "#             print(str((k/(Num_Steps/10))*10) + \" percent\")\n",
    "#             plotlattice(lattice)\n",
    "        if (k%(Num_Steps/10000)) == 0:\n",
    "            magneticMag.append(perMagnetization(lattice))\n",
    "    print(\"Per Magnetization = \" + str(perMagnetization(lattice)))\n",
    "    plotlattice(lattice)\n",
    "    return lattice,magneticMag\n",
    "\n"
   ]
  },
  {
   "cell_type": "code",
   "execution_count": null,
   "metadata": {},
   "outputs": [],
   "source": []
  },
  {
   "cell_type": "code",
   "execution_count": null,
   "metadata": {},
   "outputs": [],
   "source": []
  },
  {
   "cell_type": "code",
   "execution_count": 14,
   "metadata": {},
   "outputs": [
    {
     "name": "stdout",
     "output_type": "stream",
     "text": [
      "Local 8 Total 8\n"
     ]
    }
   ],
   "source": [
    "#Computational \"Proof\" that we are allowed to make this change to our algorithim.\n",
    "for i in range(1):\n",
    "    lattice = randomlattice(100,100)\n",
    "    i,j = pickpoint(lattice)\n",
    "    #print(i,j)\n",
    "    totalEnergy1 = totalEnergy(lattice)\n",
    "    #print(\"Total Energy1 \" + str(totalEnergy1))\n",
    "    localEnergy1 = localEnergy(lattice,i,j)+ localEnergy(lattice,i+1,j) + localEnergy(lattice,i-1,j) + localEnergy(lattice,i,j+1) + localEnergy(lattice,i,j-1)\n",
    "    #print(localEnergy1)\n",
    "    lattice = flip_spin(lattice,i,j)\n",
    "    totalEnergy2 = totalEnergy(lattice)\n",
    "    #print(\"Total Energy2 \" + str(totalEnergy2))\n",
    "    localEnergy2 =localEnergy(lattice,i,j)+ localEnergy(lattice,i+1,j) + localEnergy(lattice,i-1,j) + localEnergy(lattice,i,j+1) + localEnergy(lattice,i,j-1)\n",
    "    #print(localEnergy2)\n",
    "    deltalocal = localEnergy2 - localEnergy1\n",
    "    deltatotal = totalEnergy2 - totalEnergy1\n",
    "    print(\"Local \" + str(deltalocal), \"Total \" + str(deltatotal))"
   ]
  },
  {
   "cell_type": "code",
   "execution_count": null,
   "metadata": {},
   "outputs": [],
   "source": []
  },
  {
   "cell_type": "code",
   "execution_count": 30,
   "metadata": {},
   "outputs": [
    {
     "name": "stdout",
     "output_type": "stream",
     "text": [
      "[ 0.1  1.2  2.3  3.4  4.5  5.6  6.7  7.8  8.9 10. ]\n",
      "Initial Magnetization = 78\n",
      "J = 1, T = 0.1 H = 0\n"
     ]
    },
    {
     "data": {
      "image/png": "[encoded data removed]",
      "text/plain": [
       "<Figure size 432x288 with 2 Axes>"
      ]
     },
     "metadata": {
      "needs_background": "light"
     },
     "output_type": "display_data"
    },
    {
     "ename": "KeyboardInterrupt",
     "evalue": "",
     "output_type": "error",
     "traceback": [
      "\u001b[0;31m---------------------------------------------------------------------------\u001b[0m",
      "\u001b[0;31mKeyboardInterrupt\u001b[0m                         Traceback (most recent call last)",
      "\u001b[0;32m<ipython-input-30-47108c34c45c>\u001b[0m in \u001b[0;36m<module>\u001b[0;34m()\u001b[0m\n\u001b[1;32m      6\u001b[0m \u001b[0mmagnet_array\u001b[0m \u001b[0;34m=\u001b[0m \u001b[0;34m[\u001b[0m\u001b[0;36m0\u001b[0m \u001b[0;32mfor\u001b[0m \u001b[0mi\u001b[0m \u001b[0;32min\u001b[0m \u001b[0mrange\u001b[0m\u001b[0;34m(\u001b[0m\u001b[0mlen\u001b[0m\u001b[0;34m(\u001b[0m\u001b[0mTemp\u001b[0m\u001b[0;34m)\u001b[0m\u001b[0;34m)\u001b[0m\u001b[0;34m]\u001b[0m\u001b[0;34m\u001b[0m\u001b[0m\n\u001b[1;32m      7\u001b[0m \u001b[0;32mfor\u001b[0m \u001b[0mi\u001b[0m \u001b[0;32min\u001b[0m \u001b[0mrange\u001b[0m\u001b[0;34m(\u001b[0m\u001b[0mlen\u001b[0m\u001b[0;34m(\u001b[0m\u001b[0mTemp\u001b[0m\u001b[0;34m)\u001b[0m\u001b[0;34m)\u001b[0m\u001b[0;34m:\u001b[0m\u001b[0;34m\u001b[0m\u001b[0m\n\u001b[0;32m----> 8\u001b[0;31m     \u001b[0mlattice_array\u001b[0m\u001b[0;34m[\u001b[0m\u001b[0mi\u001b[0m\u001b[0;34m]\u001b[0m\u001b[0;34m,\u001b[0m\u001b[0mmag\u001b[0m \u001b[0;34m=\u001b[0m \u001b[0mmetropolisCustom\u001b[0m\u001b[0;34m(\u001b[0m\u001b[0mlattice_array\u001b[0m\u001b[0;34m[\u001b[0m\u001b[0mi\u001b[0m\u001b[0;34m]\u001b[0m\u001b[0;34m,\u001b[0m\u001b[0mnum_steps\u001b[0m\u001b[0;34m,\u001b[0m \u001b[0mT\u001b[0m \u001b[0;34m=\u001b[0m \u001b[0mTemp\u001b[0m\u001b[0;34m[\u001b[0m\u001b[0mi\u001b[0m\u001b[0;34m]\u001b[0m\u001b[0;34m,\u001b[0m \u001b[0mJ\u001b[0m \u001b[0;34m=\u001b[0m\u001b[0;36m1\u001b[0m\u001b[0;34m,\u001b[0m \u001b[0mH\u001b[0m \u001b[0;34m=\u001b[0m \u001b[0;36m0\u001b[0m\u001b[0;34m)\u001b[0m\u001b[0;34m\u001b[0m\u001b[0m\n\u001b[0m\u001b[1;32m      9\u001b[0m     \u001b[0mplt\u001b[0m\u001b[0;34m.\u001b[0m\u001b[0mplot\u001b[0m\u001b[0;34m(\u001b[0m\u001b[0mmag\u001b[0m\u001b[0;34m)\u001b[0m\u001b[0;34m\u001b[0m\u001b[0m\n\u001b[1;32m     10\u001b[0m     \u001b[0mplt\u001b[0m\u001b[0;34m.\u001b[0m\u001b[0mshow\u001b[0m\u001b[0;34m(\u001b[0m\u001b[0;34m)\u001b[0m\u001b[0;34m\u001b[0m\u001b[0m\n",
      "\u001b[0;32m<ipython-input-26-918f787c44fb>\u001b[0m in \u001b[0;36mmetropolisCustom\u001b[0;34m(lattice, Num_Steps, T, J, H)\u001b[0m\n\u001b[1;32m     15\u001b[0m         \u001b[0;32mif\u001b[0m \u001b[0mH\u001b[0m \u001b[0;34m==\u001b[0m \u001b[0;36m0\u001b[0m\u001b[0;34m:\u001b[0m\u001b[0;34m\u001b[0m\u001b[0m\n\u001b[1;32m     16\u001b[0m             \u001b[0mlocalEnergy1\u001b[0m \u001b[0;34m=\u001b[0m \u001b[0mlocalEnergy\u001b[0m\u001b[0;34m(\u001b[0m\u001b[0mlattice\u001b[0m\u001b[0;34m,\u001b[0m\u001b[0mi\u001b[0m\u001b[0;34m,\u001b[0m\u001b[0mj\u001b[0m\u001b[0;34m,\u001b[0m\u001b[0mJ\u001b[0m\u001b[0;34m)\u001b[0m\u001b[0;34m+\u001b[0m \u001b[0mlocalEnergy\u001b[0m\u001b[0;34m(\u001b[0m\u001b[0mlattice\u001b[0m\u001b[0;34m,\u001b[0m\u001b[0;34m(\u001b[0m\u001b[0mi\u001b[0m\u001b[0;34m+\u001b[0m\u001b[0;36m1\u001b[0m\u001b[0;34m)\u001b[0m\u001b[0;34m%\u001b[0m \u001b[0mlen\u001b[0m\u001b[0;34m(\u001b[0m\u001b[0mlattice\u001b[0m\u001b[0;34m)\u001b[0m \u001b[0;34m,\u001b[0m\u001b[0mj\u001b[0m\u001b[0;34m,\u001b[0m\u001b[0mJ\u001b[0m\u001b[0;34m)\u001b[0m \u001b[0;34m+\u001b[0m \u001b[0mlocalEnergy\u001b[0m\u001b[0;34m(\u001b[0m\u001b[0mlattice\u001b[0m\u001b[0;34m,\u001b[0m\u001b[0;34m(\u001b[0m\u001b[0mi\u001b[0m\u001b[0;34m-\u001b[0m\u001b[0;36m1\u001b[0m\u001b[0;34m)\u001b[0m \u001b[0;34m%\u001b[0m \u001b[0mlen\u001b[0m\u001b[0;34m(\u001b[0m\u001b[0mlattice\u001b[0m\u001b[0;34m)\u001b[0m\u001b[0;34m,\u001b[0m\u001b[0mj\u001b[0m\u001b[0;34m,\u001b[0m\u001b[0mJ\u001b[0m\u001b[0;34m)\u001b[0m \u001b[0;34m+\u001b[0m \u001b[0mlocalEnergy\u001b[0m\u001b[0;34m(\u001b[0m\u001b[0mlattice\u001b[0m\u001b[0;34m,\u001b[0m\u001b[0mi\u001b[0m\u001b[0;34m,\u001b[0m\u001b[0;34m(\u001b[0m\u001b[0mj\u001b[0m\u001b[0;34m+\u001b[0m\u001b[0;36m1\u001b[0m\u001b[0;34m)\u001b[0m \u001b[0;34m%\u001b[0m \u001b[0mlen\u001b[0m\u001b[0;34m(\u001b[0m\u001b[0mlattice\u001b[0m\u001b[0;34m[\u001b[0m\u001b[0;36m0\u001b[0m\u001b[0;34m]\u001b[0m\u001b[0;34m)\u001b[0m\u001b[0;34m,\u001b[0m\u001b[0mJ\u001b[0m\u001b[0;34m)\u001b[0m \u001b[0;34m+\u001b[0m \u001b[0mlocalEnergy\u001b[0m\u001b[0;34m(\u001b[0m\u001b[0mlattice\u001b[0m\u001b[0;34m,\u001b[0m\u001b[0mi\u001b[0m\u001b[0;34m,\u001b[0m\u001b[0;34m(\u001b[0m\u001b[0mj\u001b[0m\u001b[0;34m-\u001b[0m\u001b[0;36m1\u001b[0m\u001b[0;34m)\u001b[0m \u001b[0;34m%\u001b[0m\u001b[0mlen\u001b[0m\u001b[0;34m(\u001b[0m\u001b[0mlattice\u001b[0m\u001b[0;34m[\u001b[0m\u001b[0;36m0\u001b[0m\u001b[0;34m]\u001b[0m\u001b[0;34m)\u001b[0m\u001b[0;34m,\u001b[0m\u001b[0mJ\u001b[0m\u001b[0;34m)\u001b[0m\u001b[0;34m\u001b[0m\u001b[0m\n\u001b[0;32m---> 17\u001b[0;31m             \u001b[0mflip_spin\u001b[0m\u001b[0;34m(\u001b[0m\u001b[0mlattice\u001b[0m\u001b[0;34m,\u001b[0m\u001b[0mi\u001b[0m\u001b[0;34m,\u001b[0m\u001b[0mj\u001b[0m\u001b[0;34m)\u001b[0m\u001b[0;34m\u001b[0m\u001b[0m\n\u001b[0m\u001b[1;32m     18\u001b[0m             \u001b[0mlocalEnergy2\u001b[0m \u001b[0;34m=\u001b[0m \u001b[0mlocalEnergy\u001b[0m\u001b[0;34m(\u001b[0m\u001b[0mlattice\u001b[0m\u001b[0;34m,\u001b[0m\u001b[0mi\u001b[0m\u001b[0;34m,\u001b[0m\u001b[0mj\u001b[0m\u001b[0;34m,\u001b[0m\u001b[0mJ\u001b[0m\u001b[0;34m)\u001b[0m\u001b[0;34m+\u001b[0m \u001b[0mlocalEnergy\u001b[0m\u001b[0;34m(\u001b[0m\u001b[0mlattice\u001b[0m\u001b[0;34m,\u001b[0m\u001b[0;34m(\u001b[0m\u001b[0mi\u001b[0m\u001b[0;34m+\u001b[0m\u001b[0;36m1\u001b[0m\u001b[0;34m)\u001b[0m\u001b[0;34m%\u001b[0m \u001b[0mlen\u001b[0m\u001b[0;34m(\u001b[0m\u001b[0mlattice\u001b[0m\u001b[0;34m)\u001b[0m\u001b[0;34m,\u001b[0m\u001b[0mj\u001b[0m\u001b[0;34m,\u001b[0m\u001b[0mJ\u001b[0m\u001b[0;34m)\u001b[0m \u001b[0;34m+\u001b[0m \u001b[0mlocalEnergy\u001b[0m\u001b[0;34m(\u001b[0m\u001b[0mlattice\u001b[0m\u001b[0;34m,\u001b[0m\u001b[0;34m(\u001b[0m\u001b[0mi\u001b[0m\u001b[0;34m-\u001b[0m\u001b[0;36m1\u001b[0m\u001b[0;34m)\u001b[0m\u001b[0;34m%\u001b[0m \u001b[0mlen\u001b[0m\u001b[0;34m(\u001b[0m\u001b[0mlattice\u001b[0m\u001b[0;34m)\u001b[0m\u001b[0;34m,\u001b[0m\u001b[0mj\u001b[0m\u001b[0;34m,\u001b[0m\u001b[0mJ\u001b[0m\u001b[0;34m)\u001b[0m \u001b[0;34m+\u001b[0m \u001b[0mlocalEnergy\u001b[0m\u001b[0;34m(\u001b[0m\u001b[0mlattice\u001b[0m\u001b[0;34m,\u001b[0m\u001b[0mi\u001b[0m\u001b[0;34m,\u001b[0m\u001b[0;34m(\u001b[0m\u001b[0mj\u001b[0m\u001b[0;34m+\u001b[0m\u001b[0;36m1\u001b[0m\u001b[0;34m)\u001b[0m \u001b[0;34m%\u001b[0m \u001b[0mlen\u001b[0m\u001b[0;34m(\u001b[0m\u001b[0mlattice\u001b[0m\u001b[0;34m[\u001b[0m\u001b[0;36m0\u001b[0m\u001b[0;34m]\u001b[0m\u001b[0;34m)\u001b[0m\u001b[0;34m,\u001b[0m\u001b[0mJ\u001b[0m\u001b[0;34m)\u001b[0m \u001b[0;34m+\u001b[0m \u001b[0mlocalEnergy\u001b[0m\u001b[0;34m(\u001b[0m\u001b[0mlattice\u001b[0m\u001b[0;34m,\u001b[0m\u001b[0mi\u001b[0m\u001b[0;34m,\u001b[0m\u001b[0;34m(\u001b[0m\u001b[0mj\u001b[0m\u001b[0;34m-\u001b[0m\u001b[0;36m1\u001b[0m\u001b[0;34m)\u001b[0m \u001b[0;34m%\u001b[0m \u001b[0mlen\u001b[0m\u001b[0;34m(\u001b[0m\u001b[0mlattice\u001b[0m\u001b[0;34m[\u001b[0m\u001b[0;36m0\u001b[0m\u001b[0;34m]\u001b[0m\u001b[0;34m)\u001b[0m\u001b[0;34m,\u001b[0m\u001b[0mJ\u001b[0m\u001b[0;34m)\u001b[0m\u001b[0;34m\u001b[0m\u001b[0m\n\u001b[1;32m     19\u001b[0m         \u001b[0;32melse\u001b[0m\u001b[0;34m:\u001b[0m\u001b[0;34m\u001b[0m\u001b[0m\n",
      "\u001b[0;31mKeyboardInterrupt\u001b[0m: "
     ]
    }
   ],
   "source": [
    "num_steps = 10000000\n",
    "Temp = np.linspace(1e-1,10,10)\n",
    "print(Temp)\n",
    "lattice_array = [randomlattice(90,90) for i in range(len(Temp))]\n",
    "mag = [0 for i in range(len(Temp))]\n",
    "magnet_array = [0 for i in range(len(Temp))]\n",
    "for i in range(len(Temp)):\n",
    "    lattice_array[i],mag = metropolisCustom(lattice_array[i],num_steps, T = Temp[i], J =1, H = 0)\n",
    "    plt.plot(mag)\n",
    "    plt.show()\n",
    "    magnet_array[i] = mag[-1]\n",
    "plt.plot(magnet_array)\n",
    "plt.show()"
   ]
  },
  {
   "cell_type": "markdown",
   "metadata": {},
   "source": [
    "### Exercise 7: Perform measurements <a class=\"anchor\" name=\"ex7\"></a>\n",
    "Calculate the average magnetisation, average energy, and specific heat of the equilibrated system. If you perform many simulations at different temperatures, you should be in a position to observe phase transitions and measure the transition or Curie temperature, $kT_c$. "
   ]
  },
  {
   "cell_type": "code",
   "execution_count": null,
   "metadata": {},
   "outputs": [],
   "source": [
    "plt.plot(magnet_array)"
   ]
  },
  {
   "cell_type": "code",
   "execution_count": 40,
   "metadata": {},
   "outputs": [
    {
     "name": "stdout",
     "output_type": "stream",
     "text": [
      "1\n"
     ]
    }
   ],
   "source": [
    "def normallattice3D(N, M,L, value=0):\n",
    "    '''\n",
    "    This function returns an N (rows) x M (columns) lattice with identical values value\n",
    "    '''\n",
    "    \n",
    "    return np.full((N, M,L), value)\n",
    "\n",
    "def randomlattice3D(N, M,L):\n",
    "    '''\n",
    "    This function returns an N (rows) x M (columns) x L (depth) lattice with randomized spin values 0 or 1\n",
    "    '''\n",
    "    return rng.choice([-1,1], (N, M,L))\n",
    "lattice = randomlattice3D(4,4,4)\n",
    "print(lattice[3][3][3])\n",
    "\n",
    "\n",
    "def flip_spin3D(lattice,i,j,k):\n",
    "    lattice[i][j][k] = -1*lattice[i][j][k]\n",
    "    return lattice\n",
    "\n",
    "def random_flip3D(lattice):\n",
    "    i,j = pickpoint3D(lattice)\n",
    "    lattice = flip_spin3D(lattice,i,j)\n",
    "    return lattice \n",
    "    \n",
    "def neighborsSum3D(lattice, i, j,k):\n",
    "    '''\n",
    "    Sums the spins of the lattice points at four neighbor sites.\n",
    "        Takes into account the size of the lattice in \n",
    "        terms of number of rows (i) and columns (j),\n",
    "        thus implementing periodic boundary conditions.\n",
    "    '''\n",
    "    \n",
    "    ip1 = (i + 1) % len(lattice)\n",
    "\n",
    "    im1 = (i - 1) % len(lattice)\n",
    "\n",
    "    jp1 = (j + 1) % len(lattice[0])\n",
    "\n",
    "    jm1 = (j - 1) % len(lattice[0])\n",
    "\n",
    "    km1 = (k-1) %len(lattice[1])\n",
    "\n",
    "    kp1 = (k +1) %len(lattice[1])\n",
    "\n",
    "    return (lattice[ip1][j][k] + lattice[im1][j][k]\n",
    "\n",
    "            + lattice[i][jp1][k] + lattice[i][jm1][k] + lattice[i][j][km1] + lattice[i][j][kp1])\n",
    "\n",
    "#E_i = -J\\times s_i \\times neighborsSum = -J \\sum s_i s_j, where s_i is fixed. This is the key to the second part\n",
    "\n",
    "def localEnergy3D(lattice,i,j,k,J=1,H=0):\n",
    "    return -J*lattice[i][j][k]*neighborsSum3D(lattice,i,j,k)\n",
    "def totalEnergy3D(lattice,J=1,H=0):\n",
    "    sumEnergy = 0\n",
    "    for i in range(len(lattice)):\n",
    "        for j in range(len(lattice[i])):\n",
    "            for k in range(len(lattice[i][j])):\n",
    "                sumEnergy += localEnergy(lattice,i,j,k,J=J)\n",
    "    sumEnergy += -H*totalMagnetization(lattice)\n",
    "    return sumEnergy\n",
    "\n",
    "def perMagnetization3D(lattice):\n",
    "    totMag = np.sum(lattice)\n",
    "    perMag = totMag/(len(lattice)*len(lattice[0])*len(lattice[0][0]))\n",
    "    return perMag\n",
    "\n",
    "\n",
    "def metropolisCustom3D(lattice,Num_Steps,T=1,J=1,H=0):\n",
    "    N = len(lattice)\n",
    "    M = len(lattice[0])\n",
    "    L= len(lattice[0][0])\n",
    "    magneticMag = np.zeros(Num_Steps)\n",
    "    print(\"Initial Magnetization = \" + str(totalMagnetization(lattice)))\n",
    "    print('J = ' + str(J) + ', T = '+ str(T), 'H = ' + str(H))\n",
    "    #plotlattice(lattice)\n",
    "    for n in range(Num_Steps):\n",
    "    #We have calculated our initial energy of the system\n",
    "        i = rng.randint(N)\n",
    "        j = rng.randint(M)\n",
    "        k = rng.randint(L)\n",
    "    ## Now we shall flip our spin, calculate the energy, and then flip the spin back. This saves us the trouble of\n",
    "    \n",
    "    #dealing with object stuff.\n",
    "        if H == 0:\n",
    "            localEnergy1 = localEnergy3D(lattice,i,j,k,J)+ localEnergy3D(lattice,(i+1)% len(lattice) ,j,k,J) + localEnergy3D(lattice,(i-1) % len(lattice),j,k,J) + localEnergy3D(lattice,i,(j+1) % len(lattice[0]),k,J) + localEnergy3D(lattice,i,(j-1) %len(lattice[0]),k,J) + localEnergy3D(lattice,i,j,(k+1) % len(lattice[0][0]),J)+ localEnergy3D(lattice,i,j,(k-1) % len(lattice[0][0]),J)\n",
    "            flip_spin3D(lattice,i,j,k)\n",
    "            localEnergy2 = localEnergy3D(lattice,i,j,J)+ localEnergy3D(lattice,(i+1)% len(lattice),j,J) + localEnergy3D(lattice,(i-1)% len(lattice),j,J) + localEnergy3D(lattice,i,(j+1) % len(lattice[0]),J) + localEnergy3D(lattice,i,(j-1) % len(lattice[0]),J) + localEnergy3D(lattice,i,j,(k+1) % len(lattice[0][0]),J)+ localEnergy3D(lattice,i,j,(k-1) % len(lattice[0][0]),J)\n",
    "        else:\n",
    "            localEnergy1 = localEnergy3D(lattice,i,j,k,J)+ localEnergy3D(lattice,(i+1)% len(lattice) ,j,k,J) + localEnergy3D(lattice,(i-1) % len(lattice),j,k,J) + localEnergy3D(lattice,i,(j+1) % len(lattice[0]),k,J) + localEnergy3D(lattice,i,(j-1) %len(lattice[0]),k,J) + localEnergy3D(lattice,i,j,(k+1) % len(lattice[0][0]),J)+ localEnergy3D(lattice,i,j,(k-1) % len(lattice[0][0]),J) - H*totalMagnetization(lattice)\n",
    "            flip_spin3D(lattice,i,j,k)\n",
    "            localEnergy2 = localEnergy3D(lattice,i,j,k,J)+ localEnergy3D(lattice,(i+1)% len(lattice),j,k,J) + localEnergy3D(lattice,(i-1)% len(lattice),j,k,J) + localEnergy3D(lattice,i,(j+1) % len(lattice[0]),k,J) + localEnergy3D(lattice,i,k,(j-1) % len(lattice[0]),k,J) + localEnergy3D(lattice,i,j,(k+1) % len(lattice[0][0]),J)+ localEnergy3D(lattice,i,j,(k-1) % len(lattice[0][0]),J) - H*totalMagnetization(lattice)\n",
    "    #Now that we have flipped back our spin, we can calculate deltaEnergy.\n",
    "        deltaEnergy =(localEnergy2 - localEnergy1)\n",
    "        T=1\n",
    "        if deltaEnergy > 0:\n",
    "            r = rng.random()\n",
    "            if r>=np.exp(-1*deltaEnergy/T):\n",
    "                flip_spin(lattice,i,j)\n",
    "        #if (k%(Num_Steps/10)) == 0:\n",
    "            #print(str((k/(Num_Steps/10))*10) + \" percent\")\n",
    "            #plotlattice(lattice)\n",
    "        magneticMag[n] = perMagnetization3D(lattice)\n",
    "    print(\"Final Magnetization = \" + str(totalMagnetization(lattice)))\n",
    "    return lattice,magneticMag"
   ]
  },
  {
   "cell_type": "code",
   "execution_count": null,
   "metadata": {},
   "outputs": [],
   "source": [
    "lattice = randomlattice3D(20,20,20)\n",
    "print(lattice)\n",
    "lattice3, mag3 = metropolisCustom3D(lattice,10000,T=1,J=2)\n",
    "print(lattice3)\n",
    "plt.plot(mag3)\n",
    "plt.show()\n",
    "# fig = plt.figure()\n",
    "# ax = fig.add_subplot(111,projection = '3d')\n",
    "# xvals = []\n",
    "# yvals = []\n",
    "# zvals = []\n",
    "# for i in range(len(lattice3)):\n",
    "#     for j in range(len(lattice3[0])):\n",
    "#         for k in range(len(lattice3[0][0])):\n",
    "#             if lattice3[i][j][k] == 1:\n",
    "#                 xvals.append(i)\n",
    "#                 yvals.append(j)\n",
    "#                 zvals.append(k)\n",
    "# ax.scatter(xvals,yvals,zvals)"
   ]
  }
 ],
 "metadata": {
  "kernelspec": {
   "display_name": "Python 3",
   "language": "python",
   "name": "python3"
  },
  "language_info": {
   "codemirror_mode": {
    "name": "ipython",
    "version": 3
   },
   "file_extension": ".py",
   "mimetype": "text/x-python",
   "name": "python",
   "nbconvert_exporter": "python",
   "pygments_lexer": "ipython3",
   "version": "3.7.0"
  }
 },
 "nbformat": 4,
 "nbformat_minor": 2
}
