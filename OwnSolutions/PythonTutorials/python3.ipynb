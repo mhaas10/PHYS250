{
 "cells": [
  {
   "cell_type": "markdown",
   "metadata": {},
   "source": [
    "# Introduction to Python, part 3"
   ]
  },
  {
   "cell_type": "markdown",
   "metadata": {},
   "source": [
    "## Classes"
   ]
  },
  {
   "cell_type": "markdown",
   "metadata": {},
   "source": [
    "* Classes provide a means of bundling data and functionality together. \n",
    "* Creating a new class creates a new datatype, allowing new instances of that type to be made. \n",
    "* Each class instance can have attributes attached to it for maintaining its state. \n",
    "* Class instances can also have methods (defined by its class) for modifying its state."
   ]
  },
  {
   "cell_type": "code",
   "execution_count": null,
   "metadata": {},
   "outputs": [],
   "source": [
    "class Complex:\n",
    "    def __init__(self, realpart, imagpart): # constructor, predefined name\n",
    "        self.r = realpart                   # init data in an object\n",
    "        self.i = imagpart\n",
    "    def __repr__(self):                     # how to print an object, predefined name\n",
    "        return \"{} + {}i\".format(self.r,self.i)\n",
    "    def add(self, other):                   # adding other complex number to the one in the object\n",
    "        self.r += other.r\n",
    "        self.i += other.i\n",
    "    def subtract(self, other):\n",
    "        self.r -= other.r\n",
    "        self.i -= other.i\n",
    "    def multipy(self, other):\n",
    "        r = self.r * other.r - self.i * other.i    # local variable, not stored in object of the class\n",
    "        i = self.r * other.i + self.i * other.r\n",
    "        self.r = r                                 # stored in object of the class\n",
    "        self.i = i\n",
    "    def divide(self, other):\n",
    "        d = 1/(other.r**2 + other.i**2)\n",
    "        r = (self.r * other.r + self.i * other.i)*d\n",
    "        i = (self.i * other.r - self.r * other.i)*d\n",
    "        self.r = r\n",
    "        self.i = i\n",
    "    def copy(self):\n",
    "        return Complex(self.r, self.i) # create another object with the same values and return it\n",
    "        \n",
    "def print_all(mesg, numbers):\n",
    "    print(mesg)\n",
    "    print(\"-\"*5)\n",
    "    for n in numbers:\n",
    "        print(n)\n",
    "    print(\"=\"*30)\n",
    "    \n",
    "a = Complex(3,5)           # create an object of the class Complex\n",
    "b = Complex(-8, 2)\n",
    "\n",
    "c = a.copy()               # c is a copy of a but is stored separately: changing c/a does not affect a/c\n",
    "\n",
    "print_all(\"Original:\", [a,b,c])\n",
    "\n",
    "c.add(b)                   # calling a method of class\n",
    "\n",
    "print_all(\"c = a + b\", [a,b,c])\n",
    "\n",
    "c = a.copy()\n",
    "c.divide(b)\n",
    "\n",
    "print_all(\"c = a/b\", [a,b,c])\n",
    "\n",
    "d = c                      # contrary to copy, this just introduces another name to the same physical object in memory\n",
    "d.r = -25.7                # changing d, also changes c \n",
    "                           # direct access to object data is not recommended: define function for changing data\n",
    "\n",
    "print(\"c = \", c, \", d=\", d)"
   ]
  },
  {
   "cell_type": "code",
   "execution_count": null,
   "metadata": {},
   "outputs": [],
   "source": [
    "class Bag:\n",
    "    def __init__(self):\n",
    "        self.data = []\n",
    "\n",
    "    def add(self, x):\n",
    "        self.data.append(x) \n",
    "\n",
    "    def addtwice(self, x):\n",
    "        self.add(x)         # methods call other methods via self.\n",
    "        self.add(x)"
   ]
  },
  {
   "cell_type": "markdown",
   "metadata": {},
   "source": [
    "* Private variables are not supported"
   ]
  },
  {
   "cell_type": "markdown",
   "metadata": {},
   "source": [
    "### Class and Instance Variables¶"
   ]
  },
  {
   "cell_type": "code",
   "execution_count": null,
   "metadata": {},
   "outputs": [],
   "source": [
    "class Dog:\n",
    "    kind = 'canine'         # class variable shared by all instances\n",
    "    def __init__(self, name):\n",
    "        self.name = name    # instance variable unique to each instance\n",
    "\n",
    "d = Dog('Fido')\n",
    "e = Dog('Buddy')\n",
    "print(\"name =\", d.name, \", kind =\", e.kind)\n",
    "print(\"name =\", e.name, \", kind =\", e.kind)"
   ]
  },
  {
   "cell_type": "code",
   "execution_count": null,
   "metadata": {},
   "outputs": [],
   "source": [
    "d.extra = 10 # you can always add extra object variable but why"
   ]
  },
  {
   "cell_type": "markdown",
   "metadata": {},
   "source": [
    "### Inheritance"
   ]
  },
  {
   "cell_type": "code",
   "execution_count": null,
   "metadata": {},
   "outputs": [],
   "source": [
    "class car:\n",
    "    def __init__(self, kind):\n",
    "        self.k = kind\n",
    "    def whoami(self):\n",
    "        print(\"I am {}\".format(self.k))\n",
    "    def signal(self):\n",
    "        print(\"Beep!!!\")\n",
    "        \n",
    "class truck(car):\n",
    "    def __init__(self, kind, name):\n",
    "        self.k = kind\n",
    "        self.name = name\n",
    "    def whoami(self):      # this method is overwritten\n",
    "        print(\"I am {}. I am a {}\".format(self.name, self.k))\n",
    "        \n",
    "a = truck(\"BigTruck\", \"Ford\")\n",
    "a.whoami() # this method is overwritten in truck\n",
    "a.signal() # this method stays the same as in car"
   ]
  },
  {
   "cell_type": "code",
   "execution_count": null,
   "metadata": {},
   "outputs": [],
   "source": [
    "print(isinstance(a, car),  isinstance(a, truck), isinstance(a, int))"
   ]
  },
  {
   "cell_type": "markdown",
   "metadata": {},
   "source": [
    "* Multiple inheritance is supported"
   ]
  },
  {
   "cell_type": "markdown",
   "metadata": {},
   "source": [
    "## Input and Output"
   ]
  },
  {
   "cell_type": "markdown",
   "metadata": {},
   "source": [
    "### String formatting"
   ]
  },
  {
   "cell_type": "markdown",
   "metadata": {},
   "source": [
    "How do you convert values to strings?"
   ]
  },
  {
   "cell_type": "code",
   "execution_count": null,
   "metadata": {},
   "outputs": [],
   "source": [
    "s = 'Hello, world. Don\\'t \\n'\n",
    "n = 15.5\n",
    "print(str(s), str(n))\n",
    "print(repr(s), repr(n))"
   ]
  },
  {
   "cell_type": "markdown",
   "metadata": {},
   "source": [
    "* str() is meant to return human readable representation of object\n",
    "* repr() is meant to return python readable representation of object\n",
    "* For your own class, define __str__() and __repr__(), for builtin types they are already defined somehow"
   ]
  },
  {
   "cell_type": "code",
   "execution_count": null,
   "metadata": {},
   "outputs": [],
   "source": [
    "class A:\n",
    "    def __init__(self, a, b):\n",
    "        self.a = a\n",
    "        self.b = b\n",
    "    def __repr__(self):\n",
    "        return \"{} {}\".format(self.a, self.b)\n",
    "    def __str__(self):\n",
    "        return \"one = {}, two = {}\".format(self.a, self.b)\n",
    "    \n",
    "z = A(1.5, 'something')\n",
    "print(repr(z))\n",
    "print(str(z))"
   ]
  },
  {
   "cell_type": "code",
   "execution_count": null,
   "metadata": {},
   "outputs": [],
   "source": [
    "\"one\" + \"two\""
   ]
  },
  {
   "cell_type": "code",
   "execution_count": null,
   "metadata": {},
   "outputs": [],
   "source": [
    "for x in range(1, 11):\n",
    "    print(repr(x).rjust(2), repr(x*x).rjust(3), end=' ')\n",
    "    print(repr(x*x*x).rjust(4))"
   ]
  },
  {
   "cell_type": "code",
   "execution_count": null,
   "metadata": {},
   "outputs": [],
   "source": [
    "for x in range(1, 11):\n",
    "    print('{0:2d} {1:3d} {2:4d}'.format(x, x*x, x*x*x))"
   ]
  },
  {
   "cell_type": "code",
   "execution_count": null,
   "metadata": {},
   "outputs": [],
   "source": [
    "print('12'.zfill(5))\n",
    "print('-3.14'.zfill(7))\n",
    "print('3.14159265359'.zfill(5))"
   ]
  },
  {
   "cell_type": "code",
   "execution_count": null,
   "metadata": {},
   "outputs": [],
   "source": [
    "print('This {food} is {adjective}.'.format(food='spam', adjective='absolutely horrible'))"
   ]
  },
  {
   "cell_type": "code",
   "execution_count": null,
   "metadata": {},
   "outputs": [],
   "source": [
    "import math\n",
    "print('The value of PI is approximately {0:.3f}.'.format(math.pi))"
   ]
  },
  {
   "cell_type": "markdown",
   "metadata": {},
   "source": [
    "### Writing and reading files"
   ]
  },
  {
   "cell_type": "code",
   "execution_count": null,
   "metadata": {},
   "outputs": [],
   "source": [
    "fn = 'test1.txt'\n",
    "\n",
    "f = open(fn, 'w')        # overwriting text file\n",
    "f.write(\"Line one\\n\")\n",
    "print(\"Line two\", file=f)\n",
    "f.close()\n",
    "\n",
    "f = open(fn, 'r')\n",
    "z = f.read()\n",
    "f.close()\n",
    "\n",
    "print(z)\n",
    "\n",
    "print('='*30)\n",
    "\n",
    "f = open(fn, 'a')       # append to text file\n",
    "print(\"Line 3\", file = f)\n",
    "f.close()\n",
    "\n",
    "f = open(fn) #      'r' is default\n",
    "z = f.readlines()   # this reads a list of lines\n",
    "f.close()\n",
    "\n",
    "print(z)\n",
    "print(list(map(lambda x: x.strip(), z))) # strip end of line characters\n",
    "\n",
    "print('='*30)\n",
    "\n",
    "f = open(fn)\n",
    "for line in f:          # one can iterate over lines in file as if it were a list\n",
    "    print(line, end = '')\n",
    "f.close()\n",
    "\n",
    "print('='*30)\n",
    "\n",
    "with open(fn) as f:    # no need to close file: with takes care of cleaning\n",
    "    print(f.read())\n",
    "\n"
   ]
  },
  {
   "cell_type": "markdown",
   "metadata": {},
   "source": [
    "One can find the location within a file with tell(), move to a certain location with seek(), use binary files with 'rb' or 'wb' modes"
   ]
  },
  {
   "cell_type": "markdown",
   "metadata": {},
   "source": [
    "#### Pickle"
   ]
  },
  {
   "cell_type": "markdown",
   "metadata": {},
   "source": [
    "One serialize objects with pickle:"
   ]
  },
  {
   "cell_type": "code",
   "execution_count": null,
   "metadata": {},
   "outputs": [],
   "source": [
    "class A:\n",
    "    def __init__(self, a, b):\n",
    "        self.a = a\n",
    "        self.b = b\n",
    "    def __repr__(self):\n",
    "        return \"{} {}\".format(self.a, self.b)\n",
    "    def __str__(self):\n",
    "        return \"one = {}, two = {}\".format(self.a, self.b)\n",
    "\n",
    "z = A(1.5, 'something')\n",
    "\n",
    "import pickle \n",
    "fn = 'test1.pickle'\n",
    "with open(fn,'wb') as f:   # notice 'b'\n",
    "    pickle.dump(z,f)       # dump the whole object into a file; stores both data and metadata\n",
    "\n",
    "del z\n",
    "\n",
    "f = open(fn,'rb')          # again notice 'b'\n",
    "zz = pickle.load(f)        # load an object from a file\n",
    "f.close()\n",
    "\n",
    "print(zz)\n",
    "\n",
    "del zz\n"
   ]
  },
  {
   "cell_type": "markdown",
   "metadata": {},
   "source": [
    "## Exceptions"
   ]
  },
  {
   "cell_type": "markdown",
   "metadata": {},
   "source": [
    "* Even if a statement or expression is syntactically correct, it may cause an error when an attempt is made to execute it. \n",
    "* Errors detected during execution are called exceptions and one can catch and handle them"
   ]
  },
  {
   "cell_type": "code",
   "execution_count": null,
   "metadata": {},
   "outputs": [],
   "source": [
    "10 * (1/0)"
   ]
  },
  {
   "cell_type": "code",
   "execution_count": null,
   "metadata": {},
   "outputs": [],
   "source": [
    "try:\n",
    "    10 * (1/0)\n",
    "except ZeroDivisionError as e: # catch specific type of exception\n",
    "    print(e)"
   ]
  },
  {
   "cell_type": "code",
   "execution_count": null,
   "metadata": {},
   "outputs": [],
   "source": [
    "try:\n",
    "    10 * (1/0)\n",
    "except:                   # catch all the exceptions\n",
    "    print(\"Some error\")"
   ]
  },
  {
   "cell_type": "code",
   "execution_count": null,
   "metadata": {},
   "outputs": [],
   "source": [
    "# Handling different exception types\n",
    "# Raising exception\n",
    "\n",
    "import sys\n",
    "\n",
    "try:\n",
    "    f = open('myfile.txt')\n",
    "    s = f.readline()\n",
    "    i = int(s.strip())\n",
    "except OSError as err:\n",
    "    print(\"OS error: {0}\".format(err))\n",
    "except ValueError:\n",
    "    print(\"Could not convert data to an integer.\")\n",
    "except:\n",
    "    print(\"Unexpected error:\", sys.exc_info()[0])\n",
    "    raise"
   ]
  },
  {
   "cell_type": "markdown",
   "metadata": {},
   "source": [
    "* There are many builtin exceptions. \n",
    "* You can also create your own exception types, typically inheriting from some existing builtin exception class"
   ]
  },
  {
   "cell_type": "code",
   "execution_count": null,
   "metadata": {},
   "outputs": [],
   "source": [
    "class Error(Exception):\n",
    "    \"\"\"Base class for exceptions in this module.\"\"\"\n",
    "    pass\n",
    "\n",
    "class InputError(Error):\n",
    "    \"\"\"Exception raised for errors in the input.\n",
    "\n",
    "    Attributes:\n",
    "        expression -- input expression in which the error occurred\n",
    "        message -- explanation of the error\n",
    "    \"\"\"\n",
    "\n",
    "    def __init__(self, expression, message):\n",
    "        self.expression = expression\n",
    "        self.message = message\n"
   ]
  },
  {
   "cell_type": "code",
   "execution_count": null,
   "metadata": {},
   "outputs": [],
   "source": [
    "def divide(x, y):\n",
    "    try:\n",
    "        result = x / y\n",
    "    except ZeroDivisionError:\n",
    "        print(\"division by zero!\")\n",
    "    else:                                   # If no ZeroDivisionError is caught and no other exceptions are thrown\n",
    "        print(\"result is\", result)          # do this.\n",
    "    finally:                                # Do this regardless of anything.\n",
    "        print(\"executing finally clause\")\n",
    "        \n",
    "divide(2, 1)\n",
    "print(\"=\"*30)\n",
    "divide(2, 0)\n",
    "print(\"=\"*30)\n",
    "divide(\"2\", \"1\")"
   ]
  },
  {
   "cell_type": "code",
   "execution_count": null,
   "metadata": {},
   "outputs": [],
   "source": []
  }
 ],
 "metadata": {
  "kernelspec": {
   "display_name": "Python 3",
   "language": "python",
   "name": "python3"
  },
  "language_info": {
   "codemirror_mode": {
    "name": "ipython",
    "version": 3
   },
   "file_extension": ".py",
   "mimetype": "text/x-python",
   "name": "python",
   "nbconvert_exporter": "python",
   "pygments_lexer": "ipython3",
   "version": "3.6.3"
  }
 },
 "nbformat": 4,
 "nbformat_minor": 2
}
