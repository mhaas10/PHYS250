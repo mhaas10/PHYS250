{
 "cells": [
  {
   "cell_type": "markdown",
   "metadata": {},
   "source": [
    "# PHYS250 assignment 4: Understanding and using Newton's Method and others for root finding\n",
    "\n",
    "\n",
    "## Introduction\n",
    "\n",
    "As we've been discussing in lectures, minimization -- thought of broadly, and perhaps more appropriately as *optimization* -- is a critical exercise in physics. \n",
    "\n",
    "- *Fitting a model to data:* minimize differences between a model and data\n",
    "- *Second law of thermodynamics:* minimize changes in entropy for a system in thermodynamic equilibrium\n",
    "- *Conservation of momentum:* establish mechanical equilibrium by minimizing changes in momentum, $\\frac{d\\vec{p}}{dt}=0$\n",
    "- *Principle of least action:* obtain the equations of motion of a system by minimizing (or maximizing!) the variations of the action, $S$\n",
    "- *Path integral formulation of quantum mechanics:* sort quantum mechanically possible trajectories by minimizing quantum action\n",
    "- *Ising model:* minimization the energy of the spin configurations\n",
    "\n",
    "One of the primary functions of minimization is to solve the equation, potentially in many dimentions $n$ and thus parameters $\\{x_n\\}$:\n",
    "\n",
    "$$ F'(\\{x_n\\}) = 0$$\n",
    "\n",
    "The purposes of this assignment is to gain experience with some of the standard and most effective methods for dealing with the numerical compliexities of this general task.\n"
   ]
  },
  {
   "cell_type": "markdown",
   "metadata": {},
   "source": [
    "## Table of Contents\n",
    "\n",
    "1. [Root finding](#rootfinding)\n",
    "1. [Bisection](#bisection)\n",
    "    1. [Convergence rate](#convergence)\n",
    "    1. [Remarks on bisection](#bisectionremarks)\n",
    "1. [Newton's Method](#newton)\n",
    "    1. [Accuracy of numerical differentiation](#numericaldiff)\n",
    "1. [Assignment description](#assignment)\n",
    "1. Exercises:\n",
    "    1. [Exercise 1: plot your functions!](#ex1)\n",
    "    1. [Exercise 2: write a better bisection function](#ex2)\n",
    "    1. [Exercise 3: test your functions](#ex3)\n",
    "    1. [Exercise 4: compute and plot errors](#ex4)\n",
    "    1. [Exercise 5: write a function that implements Newton's method](#ex5)\n",
    "    1. [Exercise 6: qualitative assessment](#ex6)\n",
    "    1. [Exercise 7: optional additional work](#ex7)\n",
    "    1. [Exercise 8: more optional additional work](#ex7)\n",
    "\n",
    "***"
   ]
  },
  {
   "cell_type": "markdown",
   "metadata": {},
   "source": [
    "## Root finding <a class=\"anchor\" name=\"rootfinding\"></a>\n",
    "\n",
    "Rootfinding is the process of solving $f(x) = 0$ for $x$.  The standard assumption is that $f : R \\to R$ is _continuous_.  We are interested in developing general-purpose algorithms---those that can use $f(x)$ without needing to know many details about the function itself except that it satisfies basic generic properites of \"well-behaved\" functions.  When we implement our rootfinding algorithm in software, the user will pass a function or program to compute $f(x)$.  \n",
    "\n",
    "Rootfinding methods for differentiable functions may also use the derivative $f'(x)$.\n",
    "\n",
    "Some questions immediately arise:\n",
    "* **Existence.** When does this equation have at least one solution?\n",
    "* **Uniqueness.** When is the solution unique?"
   ]
  },
  {
   "cell_type": "markdown",
   "metadata": {},
   "source": [
    "## Bisection <a class=\"anchor\" name=\"bisection\"></a>\n",
    "\n",
    "Bisection is a rootfinding technique that starts with an interval $[a,b]$ containing a root and does not require derivatives.\n",
    "\n",
    "As we discussed in class, the main idea behind this algorithm is to find the root of a given number $N$.\n",
    "\n",
    "Suppose $f$ is a continuous function defined on the interval $[a,b]$, with $f(a)$ and $f(b)$ of opposite sign. We know that there exists at least one number $p$ in $(a,b)$ with $f(p)=0$. \n",
    "\n",
    "To find such $p$, set $a_1=a$ and $b_1=b$, and let $p_1$ be the midpoint in between a and b: \n",
    "\n",
    "$$p_1=\\dfrac{(a_1+b_1)}{2}$$\n",
    "\n",
    "1) If $f(p_1)=0$, then $p=p_1$, we are done;\n",
    "\n",
    "2) If $f(p_1)$  and  $f(a_1)$ have the same sign, $p \\in (p_1,b_1)$, and we set $a_2=p_1$ and $b_2=b_1$;\n",
    "\n",
    "3) Similarly, If $f(p_1)$  and  $f(a_1)$ have opposite signs, $p \\in (p_1,b_1)$, and we set $a_2=a_1$ and $b_2=p_1$;\n",
    "\n",
    "4) Iterate the process above in the following intervals: $[a_2, b_2]$, $[a_3, b_3]$...$[a_i, b_i]$;\n",
    "\n",
    "5) Set the error tolerance, the loop will be terminate if $$\\dfrac{(a_i+b_i)}{2}< tolerance.$$\n",
    "\n",
    "\n",
    "### Convergence rate <a class=\"anchor\" name=\"convergence\"></a>\n",
    "\n",
    "Let's quantitatively revisit the convergence rate.  \n",
    "\n",
    "A convergent rootfinding algorithm produces a sequence of approximations $x_i$ such that \n",
    "\n",
    "$$\\lim_{i \\to \\infty} x_i \\to x_*$$ \n",
    "\n",
    "where $f(x_*) = 0$.  \n",
    "\n",
    "For analysis, it is convenient to define the errors $e_i = x_i - x_*$. We say that an algorithm is **$q$-linearly convergent** if \n",
    "\n",
    "$$\\lim_{i \\to \\infty} |e_{i+1}| / |e_i| = \\rho < 1.$$  \n",
    "\n",
    "(The $q$ is for \"quotient\".)  A smaller convergence factor $\\rho$ represents faster convergence.  A slightly weaker condition ($r$-linear convergence or just **linear convergence**) is that\n",
    "\n",
    "$$ |e_i| \\le \\epsilon_i $$\n",
    "\n",
    "for all sufficiently large $i$ when $\\epsilon_i$ converges $q$-linearly to 0.\n",
    "\n",
    "Which criteria does the bisection method satisfy?  What is $\\rho$ for bisection?\n",
    "\n",
    "### Remarks on bisection <a class=\"anchor\" name=\"bisectionremarks\"></a>\n",
    "\n",
    "* Specifying an interval is often inconvenient\n",
    "* An interval in which the function changes sign guarantees convergence (robustness)\n",
    "* No derivative information is required\n",
    "* Roots of even degree are problematic\n",
    "* A bound on the solution error is directly available\n",
    "* The convergence rate is modest -- one iteration per bit of accuracy\n"
   ]
  },
  {
   "cell_type": "markdown",
   "metadata": {},
   "source": [
    "## Newton-Raphson Method <a class=\"anchor\" name=\"newton\"></a>\n",
    "\n",
    "We discussed the more \"intelligent\" method of Newton in lecture. Indeed, as we discussed, much of numerical analysis here reduces to [Taylor series](https://en.wikipedia.org/wiki/Taylor_series), the approximation\n",
    "\n",
    "$$ f(x) = f(x_0) + f'(x_0) (x-x_0) + f''(x_0) (x - x_0)^2 / 2 + \\dotsb $$\n",
    "\n",
    "centered on some reference point $x_0$.\n",
    "In numerical computation, it is exceedingly rare to look beyond the first-order approximation\n",
    "\n",
    "$$ \\tilde f_{x_0}(x) = f(x_0) + f'(x_0)(x - x_0) . $$\n",
    "\n",
    "Since $\\tilde f_{x_0}(x)$ is a linear function, we can explicitly compute the unique solution of $\\tilde f_{x_0}(x) = 0$ as\n",
    "\n",
    "$$ x = x_0 - f(x_0) / f'(x_0) . $$\n",
    "\n",
    "This is Newton's Method (aka Newton-Raphson or Newton-Raphson-Simpson) for finding the roots of differentiable functions (or twice differentiable functions in the case that $f(x) = g'(x)$ for an optimization problem).\n",
    "\n",
    "### Accuracy of numerical differentiation <a class=\"anchor\" name=\"numericaldiff\"></a>\n",
    "\n",
    "In the exercises below, you will have to perform numerical differentiation for Newton's method. Here is some discussion on that point.\n",
    "\n",
    "#### Taylor expansion\n",
    "\n",
    "Classical accuracy analysis assumes that functions are sufficiently smooth, meaning that derivatives exist and Taylor expansions are valid within a neighborhood.  In particular,\n",
    "\n",
    "$$ f(x+h) = f(x) + f'(x) h + f''(x) \\frac{h^2}{2!} + \\underbrace{f'''(x) \\frac{h^3}{3!} + \\dotsb}_{O(h^3)} . $$\n",
    "\n",
    "The big-$O$ notation is meant in the limit $h\\to 0$.  Specifically, a function $g(h) \\in O(h^p)$ (sometimes written $g(h) = O(h^p)$) when\n",
    "\n",
    "there exists a constant $C$ such that\n",
    "\n",
    "$$ g(h) \\le C h^p $$\n",
    "\n",
    "for all sufficiently *small* $h$.\n",
    "\n",
    "**Note:** When analyzing algorithms, we will refer to cost being $O(n^2)$, for example, where $n\\to \\infty$.\n",
    "In this case, the above definition applies for sufficiently *large* $n$.  Whether the limit is small ($h\\to 0$) or large ($n \\to\\infty$) should be clear from context.\n",
    "\n",
    "#### Discretization error\n",
    "The `diff` and `diff_wp` functions use a \"forward difference\" formula: $\\tilde f'(x) := (f(x+h) - f(x))/h$.\n",
    "Using the Taylor expansion of $f(x+h)$, we compute the discretization error\n",
    "\n",
    "$$ \\begin{split} \\frac{f(x+h) - f(x)}{h} - f'(x) &= \\frac{f(x) + f'(x) h + f''(x) h^2/2 + O(h^3) - f(x)}{h} - f'(x) \\\\\n",
    "&= \\frac{f'(x) h + f''(x) h^2/2 + O(h^3)}{h} - f'(x) \\\\\n",
    "&= f''(x) h/2 + O(h^2) .\n",
    "\\end{split} $$\n",
    "\n",
    "This is the *discretization error* caused by choosing a finite (not infinitesimal) differencing parameter $h$, and the leading order term depends linearly on $h$.\n",
    "\n",
    "#### Rounding error\n",
    "We have an additional source of error, *rounding error*, which comes from not being able to compute $f(x)$ or $f(x+h)$ exactly, nor subtract them exactly.  Suppose that we can, however, compute these functions with a relative error on the order of $\\epsilon_{\\text{machine}}$.  This leads to\n",
    "\n",
    "$$ \\begin{split}\n",
    "\\tilde f(x) &= f(x)(1 + \\epsilon_1) \\\\\n",
    "\\tilde f(x \\oplus h) &= \\tilde f((x+h)(1 + \\epsilon_2)) \\\\\n",
    "&= f((x + h)(1 + \\epsilon_2))(1 + \\epsilon_3) \\\\\n",
    "&= [f(x+h) + f'(x+h)(x+h)\\epsilon_2 + O(\\epsilon_2^2)](1 + \\epsilon_3) \\\\\n",
    "&= f(x+h)(1 + \\epsilon_3) + f'(x+h)x\\epsilon_2 + O(\\epsilon_{\\text{machine}}^2 + \\epsilon_{\\text{machine}} h)\n",
    "\\end{split}\n",
    "$$\n",
    "\n",
    "where each $\\epsilon_i$ is an independent relative error on the order of $\\epsilon_{\\text{machine}}$ and we have used a Taylor expansion at $x+h$ to approximate $f(x \\oplus h)$.\n",
    "We thus write the rounding error in the forward difference approximation as\n",
    "\n",
    "$$ \\begin{split}\n",
    "\\left\\lvert \\frac{\\tilde f(x+h) \\ominus \\tilde f(x)}{h} - \\frac{f(x+h) - f(x)}{h} \\right\\rvert &=\n",
    "  \\left\\lvert \\frac{f(x+h)(1 + \\epsilon_3) + f'(x+h)x\\epsilon_2 + O(\\epsilon_{\\text{machine}}^2 + \\epsilon_{\\text{machine}} h) - f(x)(1 + \\epsilon_1) - f(x+h) + f(x)}{h} \\right\\rvert \\\\\n",
    "  &\\le \\frac{|f(x+h)\\epsilon_3| + |f'(x+h)x\\epsilon_2| + |f(x)\\epsilon_1| + O(\\epsilon_{\\text{machine}}^2 + \\epsilon_{\\text{machine}}h)}{h} \\\\\n",
    "  &\\le \\frac{(2 \\max_{[x,x+h]} |f| + \\max_{[x,x+h]} |f' x| \\epsilon_{\\text{machine}} + O(\\epsilon_{\\text{machine}}^2 + \\epsilon_{\\text{machine}} h)}{h} \\\\\n",
    "  &= (2\\max|f| + \\max|f'x|) \\frac{\\epsilon_{\\text{machine}}}{h} + O(\\epsilon_{\\text{machine}}) \\\\\n",
    "\\end{split} $$\n",
    "\n",
    "where we have assumed that $h \\ge \\epsilon_{\\text{machine}}$.\n",
    "\n",
    "This error becomes large (relative to $f'$ -- we are concerned with relative error after all)\n",
    "* $f$ is large compared to $f'$\n",
    "* $x$ is large\n",
    "* $h$ is too small\n",
    "\n",
    "#### Total error and optimal $h$\n",
    "\n",
    "Suppose we would like to choose $h$ to minimize the combined discretization and rounding error,\n",
    "\n",
    "$$ h^* = \\arg\\min_h | f''(x) h/2 | + (2\\max|f| + \\max|f'x|) \\frac{\\epsilon_{\\text{machine}}}{h} $$\n",
    "\n",
    "(dropping the higher order terms), which we can compute by differentiating with respect to $h$ and setting the result equal to zero\n",
    "\n",
    "$$ |f''|/2 - (2\\max|f| + \\max|f'x|) \\frac{\\epsilon_{\\text{machine}}}{h^2} = 0 $$\n",
    "\n",
    "which can be rearranged as\n",
    "\n",
    "$$ h^* = \\sqrt{\\frac{4\\max|f| + 2\\max|f'x|}{|f''|}} \\sqrt{\\epsilon_{\\text{machine}}} .$$\n",
    "\n",
    "Of course this formula is of little use for computing $h$ because all this is to compute $f'$, which we obviously don't know yet, much less $f''$.\n",
    "\n",
    "However, it does have value:\n",
    "* It explains why `1e-8` (i.e., $\\sqrt{\\epsilon_{\\text{machine}}}$) is empirically found to be about optimal for well-behaved/scaled functions.\n",
    "* It explains why even for the best behaved functions, our best attainable accuracy with forward differencing is $\\sqrt{\\epsilon_{\\text{machine}}}$.\n",
    "* If we have some special knowledge about the class of functions we need to differentiate, we might have bounds on these quantities and thus an ability to use this formula to improve accuracy.  Alternatively, we could run a parameter sweep to empirically choose a suitable $h$, though we would have to re-tune in response to parameter changes in the class of functions.\n",
    "* If someone claims to have a simple and robust rule for computing $h$ then this formula tells us how to build a function that breaks their rule.  There are no silver bullets.\n",
    "* If our numerical differentiation routine produces a poor approximation for some function that we run into in the wild, this helps us explain what happened and how to fix it.\n"
   ]
  },
  {
   "cell_type": "markdown",
   "metadata": {},
   "source": [
    "## Assignment description <a class=\"anchor\" name=\"assignment\"></a>\n",
    "\n",
    "In this assignment,  you will consider aspects of the numerical methods that we've discussed and apply slight variations and improvements on those as you work through the details of the exercises and learn the limitations that the methods have.\n"
   ]
  },
  {
   "cell_type": "markdown",
   "metadata": {},
   "source": [
    "### Exercise 1: plot your functions! <a class=\"anchor\" name=\"ex1\"></a>\n",
    "\n",
    "First, let's consider some test functions, defined here along with their derivatives which we'll use later. It is often crucial to try to *plot* functions and data (when you can). \n"
   ]
  },
  {
   "cell_type": "code",
   "execution_count": 361,
   "metadata": {},
   "outputs": [
    {
     "data": {
      "image/png": "[encoded data removed]",
      "text/plain": [
       "<Figure size 432x288 with 1 Axes>"
      ]
     },
     "metadata": {
      "needs_background": "light"
     },
     "output_type": "display_data"
    }
   ],
   "source": [
    "%matplotlib inline\n",
    "from matplotlib import pyplot as plt\n",
    "import numpy as np\n",
    "\n",
    "# Define a set of functions\n",
    "\n",
    "def f0(x):\n",
    "    return x*x - 2, 2*x\n",
    "\n",
    "def f1(x):\n",
    "    return np.cos(x) - x, -np.sin(x) - 1\n",
    "\n",
    "def f2(x):\n",
    "    # Note that this is a piecewise function, effectively\n",
    "    return np.exp(-np.abs(x)) + np.sin(x), np.exp(-np.abs(x))*(-np.sign(x)) + np.cos(x)\n",
    "\n",
    "def f3(x):\n",
    "    return x*x - x + 0.25, 2*x - 1     \n",
    "\n",
    "# Make a list of these functions so that\n",
    "# it is easy to iterate over\n",
    "tests = (f0, f1, f2, f3)\n",
    "def f4(x):\n",
    "    return x**3 - x, 3*x**2 - 1\n",
    "#tests = (f0, f1, f2, f3,f4)\n",
    "\n",
    "# Define a range over which to plot these functions\n",
    "x = np.linspace(-2,2,100)\n",
    "plt.plot(x, 0*x, color='k')\n",
    "\n",
    "# Iterate over the functions defined above\n",
    "for f in tests:\n",
    "    plt.plot(x, f(x)[0], label=f.__name__)\n",
    "plt.legend(loc='upper right');\n",
    "plt.show()\n",
    "\n",
    "\n",
    "# x = np.linspace(-2,2,100)\n",
    "# plt.plot(x, 0*x, color='k')\n",
    "\n",
    "# #Just to see, iterate over the derivatives of these functions\n",
    "# for f in tests:\n",
    "#     plt.plot(x, f(x)[1], label=f.__name__ + \"' \")\n",
    "# plt.legend(loc='upper right');"
   ]
  },
  {
   "cell_type": "code",
   "execution_count": 448,
   "metadata": {},
   "outputs": [
    {
     "data": {
      "image/png": "[encoded data removed]",
      "text/plain": [
       "<Figure size 432x288 with 1 Axes>"
      ]
     },
     "metadata": {
      "needs_background": "light"
     },
     "output_type": "display_data"
    }
   ],
   "source": [
    "def f4(x):\n",
    "    return x**3 - x, 3*x**2 - 1\n",
    "x = np.linspace(-2,2,100)\n",
    "plt.plot(x, 0*x, color='k')\n",
    "\n",
    "plt.plot(x, f4(x)[0], label='f4')\n",
    "plt.legend(loc='upper right')\n",
    "plt.show()\n",
    "#We shall include it in future analysis.\n",
    "tests = (f0, f1, f2, f3,f4)"
   ]
  },
  {
   "cell_type": "markdown",
   "metadata": {},
   "source": [
    "Questions for Exercise 1:\n",
    "\n",
    "1. Which of these functions have at least one root?\n",
    "\n",
    "We can clearly see from the plots that every function has at least one root.\n",
    "2. Which have more than one root?\n",
    "\n",
    "f0 has two roots.\n",
    "1. Can we determine these properties merely by evaluating $f(x)$ for some values of $x$?\n",
    "\n",
    "We can not strictly determine these properties in every case. \n",
    "\n",
    "If f(-2) has the same sign as f(2), then we see f has either no roots or more than one root. If we evaluate f(x) for some value of x in this case and see that f(x) has the opposite sign of f(2), then f has more than one root. This is the case with f0.\n",
    "\n",
    "However, we will never be able to understand if f3 has a root unless we actually evaluate f3(x) at x = x', where x' is the root. For any other values of x, we will not be able to determine these properties.\n",
    "\n",
    "1. Define a function that has more than two roots in the specified range\n",
    "\n",
    "f4(x) = x^3 - x. This is plotted below. It has three roots at x = 0,1,-1."
   ]
  },
  {
   "cell_type": "markdown",
   "metadata": {},
   "source": [
    "### Exercise 2: write a better bisection function <a class=\"anchor\" name=\"ex2\"></a>\n",
    "\n",
    "We discussed an initial version of the bisection function in class, but there were sevreral shortcomings:\n",
    "\n",
    "- The test function was hard-coded in the bisection function\n",
    "- Steps of the method were not handled great and no access to intermediate results of the method (i.e. prior to convergence.\n",
    "- Testing for the existence of a root was baked into the bisection function (meaning that any change in definition is hard to accommodate)\n",
    "\n",
    "Here is that original function:\n"
   ]
  },
  {
   "cell_type": "code",
   "execution_count": 362,
   "metadata": {},
   "outputs": [],
   "source": [
    "def bisection(a, b, tol, max_it):\n",
    "    i = 1\n",
    "    fa = f(a)\n",
    "    while i <= max_it:\n",
    "        p = (a + b) / 2.0\n",
    "        fp = f(p)\n",
    "        if fp == 0 or (b - a) < tol:\n",
    "            p_out = p\n",
    "            print(\"Number of iterations = \" + str(i))\n",
    "            return(p)\n",
    "        i += 1\n",
    "        if fa * fp > 0:\n",
    "            a = p\n",
    "            fa = fp\n",
    "        else:\n",
    "            b = p\n",
    "    print('max num iteration exceeded')\n",
    "    return(-999)"
   ]
  },
  {
   "cell_type": "markdown",
   "metadata": {},
   "source": [
    "Questions for Exercise 2:\n",
    "\n",
    "1. Write a `hasroot` function to determine if a user-defined function has a root in the specified interval\n",
    "1. Write a new `bisection` function that overcomes these issues by\n",
    "   1. Take a user defined function as an argument\n",
    "   1. Provide an array as an input that can hold the iterations of the methods\n",
    "   1. Perform a truly *iterative* method by calling *itself* in the case that additional iterations are required\n",
    "\n",
    "Suggestions:\n",
    "\n",
    "Create a `hasroot` function:\n",
    "\n",
    "~~~~\n",
    "def hasroot(f, a, b):\n",
    "    '''\n",
    "    This function provides a test to determine if a root exists for function `f` in range `a` to `b`\n",
    "    '''\n",
    "    return <RESULT OF TEST>\n",
    "~~~~"
   ]
  },
  {
   "cell_type": "code",
   "execution_count": 470,
   "metadata": {},
   "outputs": [],
   "source": [
    "def hasroot(f, a, b):\n",
    "    return f(a)[0]*f(b)[0] <= 0\n",
    "    \n",
    "def bisect(f, a, b, history=None):\n",
    "    mid = (a + b)/2.\n",
    "    fp = f(mid)\n",
    "    if fp == 0 or b-a < 1e-10:\n",
    "        if history is None:\n",
    "            return mid\n",
    "        else:\n",
    "            return mid, np.array(history)\n",
    "    if history is not None:\n",
    "        history.append(mid)\n",
    "    if hasroot(f, a, mid):\n",
    "        return bisect(f, a, mid, history)\n",
    "    else:\n",
    "        return bisect(f, mid, b, history)"
   ]
  },
  {
   "cell_type": "code",
   "execution_count": 471,
   "metadata": {},
   "outputs": [
    {
     "data": {
      "text/plain": [
       "0.49999999625288183"
      ]
     },
     "execution_count": 471,
     "metadata": {},
     "output_type": "execute_result"
    }
   ],
   "source": [
    "bisect(f3, -2, 3)"
   ]
  },
  {
   "cell_type": "markdown",
   "metadata": {},
   "source": [
    "### Exercise 3: perform tests of your bisection function <a class=\"anchor\" name=\"ex3\"></a>\n",
    "\n",
    "Test the accuracy of your `bisection` function by comparing your implementation to the native calculations in `numpy`.\n",
    "\n",
    "For example:\n",
    "\n",
    "~~~~    \n",
    "np.sqrt(2) - bisection(f0, 0, 2)\n",
    "~~~~\n",
    "\n",
    "Questions for exercise 3:\n",
    "\n",
    "1. What is the accuracy of the `bisection` function for various user-defined input functions\n",
    "1. How many iterations are required for various functions?"
   ]
  },
  {
   "cell_type": "markdown",
   "metadata": {},
   "source": []
  },
  {
   "cell_type": "code",
   "execution_count": 473,
   "metadata": {},
   "outputs": [
    {
     "name": "stdout",
     "output_type": "stream",
     "text": [
      "Format = accuracy iterations\n",
      "f0\n",
      "1.7951196085164156e-11 35\n",
      "f1\n",
      "1.4551915228366852e-11 35\n",
      "f2\n",
      "4.110886948183179e-06 35\n",
      "f3\n",
      "-1.4999999999708962 35\n",
      "f4\n",
      "2.9103830456733704e-11 35\n"
     ]
    }
   ],
   "source": [
    "#For some of these, the solutions are transcendental and so we can not actually get a sense of error because we have no analytical solution. \n",
    "\n",
    "acc0 = np.sqrt(2) - bisect(tests[0], 0, 2,history = [])[0]\n",
    "hist0 = bisect(tests[0], 0, 2,history = [])[1]\n",
    "acc1 = .7390851332311286 - bisect(tests[1], 0, 2,history = [])[0]\n",
    "hist1 = bisect(tests[0], 0, 2,history = [])[1]\n",
    "\n",
    "acc1 = .7390851332311286 - bisect(tests[1], 0, 2,history = [])[0]\n",
    "hist1 = bisect(tests[1], 0, 2,history = [])[1]\n",
    "\n",
    "acc2 = -.5885286331176758 - bisect(tests[2], -2, 2,history = [])[0]\n",
    "hist2 = bisect(tests[2], 0, 2,history = [])[1]\n",
    "\n",
    "acc3 = .5 - bisect(tests[3], 0, 2,history = [])[0]\n",
    "hist3 = bisect(tests[3], 0, 2,history = [])[1]\n",
    "\n",
    "acc4 = bisect(tests[4], 0, 2,history = [])[0]\n",
    "hist4 = bisect(tests[4], 0, 2,history = [])[1]\n",
    "\n",
    "print('Format = accuracy iterations')\n",
    "print('f0')\n",
    "print(acc0,len(hist0))\n",
    "print('f1')\n",
    "print(acc1,len(hist1))\n",
    "print('f2')\n",
    "print(acc2,len(hist2))\n",
    "print('f3')\n",
    "print(acc3,len(hist3))\n",
    "print('f4')\n",
    "print(acc4,len(hist4))"
   ]
  },
  {
   "cell_type": "markdown",
   "metadata": {},
   "source": [
    "We see that the iteration length is the same, like we described above. We also find that for f3, the function doesn't 'see' that there is a root because both of the end values are positive. The only way that we get a valid solution is if we set the interval such that the midpoint is the root itself i.e [-2,3]"
   ]
  },
  {
   "cell_type": "raw",
   "metadata": {
    "scrolled": true
   },
   "source": [
    "#f0\n",
    "x, h = bisect(f0, 0, 2, history=[])\n",
    "x, h.tolist()\n"
   ]
  },
  {
   "cell_type": "code",
   "execution_count": null,
   "metadata": {},
   "outputs": [],
   "source": []
  },
  {
   "cell_type": "code",
   "execution_count": 436,
   "metadata": {},
   "outputs": [
    {
     "data": {
      "image/png": "[encoded data removed]",
      "text/plain": [
       "<Figure size 432x288 with 1 Axes>"
      ]
     },
     "metadata": {
      "needs_background": "light"
     },
     "output_type": "display_data"
    }
   ],
   "source": [
    "# Compute and plot errors\n",
    "# Compute and plot errors\n",
    "\n",
    "err = h - np.sqrt(2)\n",
    "plt.semilogy(np.abs(err), 'o')\n",
    "plt.semilogy(.5**np.arange(len(h)));\n",
    "plt.show()\n"
   ]
  },
  {
   "cell_type": "code",
   "execution_count": 437,
   "metadata": {},
   "outputs": [
    {
     "name": "stdout",
     "output_type": "stream",
     "text": [
      "[1.         0.5        0.75       0.625      0.6875     0.71875\n",
      " 0.734375   0.7421875  0.73828125 0.74023438 0.73925781 0.73876953\n",
      " 0.73901367 0.73913574 0.73907471 0.73910522 0.73908997 0.73908234] 18\n"
     ]
    }
   ],
   "source": [
    "#f1\n",
    "\n",
    "x, h = bisect(tests[1], 0, 2, history=[])\n",
    "x, h.tolist()\n",
    "print(h,len(h))"
   ]
  },
  {
   "cell_type": "code",
   "execution_count": 438,
   "metadata": {},
   "outputs": [
    {
     "data": {
      "image/png": "[encoded data removed]",
      "text/plain": [
       "<Figure size 432x288 with 1 Axes>"
      ]
     },
     "metadata": {
      "needs_background": "light"
     },
     "output_type": "display_data"
    }
   ],
   "source": [
    "# Compute and plot errors\n",
    "#The 'true' value is a transcendental, so we shall approximate using what we know about the end value for a very high tolerance.\n",
    "err = h - .7390851332311286\n",
    "plt.semilogy(np.abs(err), 'o')\n",
    "plt.semilogy(.5**np.arange(len(h)));\n",
    "plt.show()"
   ]
  },
  {
   "cell_type": "code",
   "execution_count": 453,
   "metadata": {},
   "outputs": [
    {
     "name": "stdout",
     "output_type": "stream",
     "text": [
      "[1.00000000e+00 5.00000000e-01 2.50000000e-01 1.25000000e-01\n",
      " 6.25000000e-02 3.12500000e-02 1.56250000e-02 7.81250000e-03\n",
      " 3.90625000e-03 1.95312500e-03 9.76562500e-04 4.88281250e-04\n",
      " 2.44140625e-04 1.22070312e-04 6.10351562e-05 3.05175781e-05\n",
      " 1.52587891e-05 7.62939453e-06] 18\n"
     ]
    }
   ],
   "source": [
    "#f4\n",
    "\n",
    "x, h = bisect(tests[4], 0, 2, history=[])\n",
    "x, h.tolist()\n",
    "print(h,len(h))"
   ]
  },
  {
   "cell_type": "code",
   "execution_count": 454,
   "metadata": {},
   "outputs": [
    {
     "data": {
      "image/png": "[encoded data removed]",
      "text/plain": [
       "<Figure size 432x288 with 1 Axes>"
      ]
     },
     "metadata": {
      "needs_background": "light"
     },
     "output_type": "display_data"
    }
   ],
   "source": [
    "# Compute and plot errors\n",
    "#The 'true' value is a transcendental\n",
    "err = h \n",
    "plt.semilogy(np.abs(err), 'o')\n",
    "plt.semilogy(.5**np.arange(len(h)));\n",
    "plt.show()"
   ]
  },
  {
   "cell_type": "markdown",
   "metadata": {},
   "source": [
    "This is the case, because it converges to zero, which means that it follows the \"left\" path of the algorithim every time."
   ]
  },
  {
   "cell_type": "markdown",
   "metadata": {},
   "source": [
    "### Exercise 4: compute and plot errors <a class=\"anchor\" name=\"ex4\"></a>\n",
    "\n",
    "In this exercise, you should graphically represent the error between your approximation and the \"true\" answer.\n",
    "\n",
    "Questions for exercise 4:\n",
    "\n",
    "1. Compute errors for each of your functions as a function of the iteration number\n",
    "1. Plot the errors as a function of that iteration number\n",
    "\n",
    "Suggestions:\n",
    "\n",
    "1. Use the history list that you've built into the `bisection` function\n",
    "1. Plot this as a `semilogy` plot of error vs. iteration number"
   ]
  },
  {
   "cell_type": "markdown",
   "metadata": {},
   "source": []
  },
  {
   "cell_type": "markdown",
   "metadata": {},
   "source": [
    "### Exercise 5: write a function that implements Newton's method <a class=\"anchor\" name=\"ex5\"></a>\n",
    "\n",
    "We discussed an example in lecture (in the Examples folder in GitHub: https://github.com/UChicagoPhysics/PHYS250/tree/master/Examples).\n",
    "\n",
    "However, this function had a few shortcomings that you should now fix.\n",
    "\n",
    "Questions for exercise 5:\n",
    "\n",
    "1. Instead of using a built-in library for computing the derivative of the function `f(x)`, `f'(x)`, I want you to compute it yourself.\n",
    "1. Place a tolerance on the computation of the derivative of this function in addition to the convergence of the method itself.\n",
    "1. Protect against division by zero\n"
   ]
  },
  {
   "cell_type": "code",
   "execution_count": 441,
   "metadata": {},
   "outputs": [
    {
     "name": "stdout",
     "output_type": "stream",
     "text": [
      "f0 (1.4142135623731018, 1.9095836023552692e-14, 7)\n",
      "f1 (0.7390851332154746, -5.254685575550866e-13, 4)\n",
      "f2 (-6.285049273382586, 7.470152968425126e-16, 4)\n",
      "f3 (0.4999908476001394, 8.376641047469491e-11, 15)\n",
      "f4 (-3.4905719536581364e-15, 3.4905719536581364e-15, 3)\n"
     ]
    }
   ],
   "source": [
    "#We shall compute the derivative with the finite forward \n",
    "\n",
    "def newton(f, x,h=1e-5, verbose=False):\n",
    "    for i in range(100000):\n",
    "        fx,dfx = f(x)\n",
    "        dfx = (f(x+h)[0]-f(x)[0])/h\n",
    "        \n",
    "        if verbose:\n",
    "            print(f.__name__, i, x, fx)\n",
    "        if np.abs(fx) < 1e-10:\n",
    "            return x, fx, i\n",
    "        try:\n",
    "            x -= fx / dfx\n",
    "        except ZeroDivisionError:\n",
    "            return x, np.NaN, i\n",
    "\n",
    "for f in tests:\n",
    "    print(f.__name__, newton(f, .2,h = 1e-9))"
   ]
  },
  {
   "cell_type": "markdown",
   "metadata": {},
   "source": [
    "### Exercise 6: qualitative assessment  <a class=\"anchor\" name=\"ex6\"></a>\n",
    "\n",
    "Questions for exercise 6:\n",
    "\n",
    "* Did we solve all of these equations?\n",
    "\n",
    "We are able to find solutions for all of these equations, so yes.\n",
    "* How can the iteration break down?\n",
    "\n",
    "The iteration can break down if we iterate into a value such that the derivative is equal to zero. This is exceedingly unlikely, since we are computing fine secant lines and we would need to fall onto a point that is exactly h/2 less than a minima. Interestingly, we find that when we try and go for exceedingly low tolerances (i.e 10^-18), we sometimes get \"None\" errors, but only for functions $f0, f2$. The likely error seems to be that the iteration falls into a situation in which it is given an incredibly low derivative value, and thus it is sent far away. if the slope of the curve at large values of x is not well-suited to bring the iteration back towards the center, we shall find that we won't converge\n",
    "* Does choosing a different initial guess lead to different solutions?\n",
    "\n",
    "It can lead to very different solutions. This makes complete sense because different initial values will follow along different iterative paths towards a solution. We can see this by plugging in -.2 vs. .2 and seeing that the root of f0 switches. This is because the derivative in one case drives the path towards a particular value, while the switching of the sign of the derivative at x = 0 will drive the path towards the opposite value.\n",
    "* How is this convergence test different from the one we used for bisection?\n",
    "\n",
    "It is different in the sense that the iterations used by the bisection method are bounded by our initial interval. This is very different than in Newton's method, where there is no initial interval and instead the iteration is free to sweep over the whole space. \n",
    "\n",
    "We also clearly see that for most \"well-behaved\" functions, the convergence rate for Newton's method is much faster than that of the bisection method. While we saw how there was a risk of iterating over a value with a \"bad\" derivative which interferes with our algorithim in the Newton's method, the increased speed of the algorithim makes it a more worthwhile choice.\n",
    "* Is the convergence rate similar for all test equations?\n",
    "For the bisection method, the convergence rate is determined by the interval length and the tolerance. This is because the algorithim will continue to divide the interval size by two until the size of the interval itself is less than the tolerance. This is a consistent, but slow, convergence rate. \n",
    "\n",
    "For Newton's method, the convergence rates vary greatly. This is due to the fact that the non-uniformity of the derivative has the potential to either greatly speed up the algorithim or greatly slow it. Given a function with a sharply changing derivative versus a line, we see that the line will always be done in 1 step, while a complicated curve like $f3$ may take many more steps."
   ]
  },
  {
   "cell_type": "markdown",
   "metadata": {},
   "source": [
    "### Exercise 7: optional additional work   <a class=\"anchor\" name=\"ex7\"></a>\n",
    "\n",
    "As you did for the last exercise, you often want to apply Newton's method to a function that we know how to evaluate, but don't have code to differentiate. This is because it's frequently difficult/error-prone to write or because the interface by which we call it does not support derivatives.  (Commercial packages often fall in this category.)\n",
    "\n",
    "Expand upong your default implementation of a numerical derivative above by using the Walker and Pernice (1998) choice of step:\n",
    "\n",
    "* \"NITSOL: A Newton iterative solver for nonlinear systems:\" https://www.osti.gov/biblio/433349\n",
    "\n",
    "This algorithm is imperfect, leaving some scaling responsibility to the user. It is the default in PETSc's \"matrix-free\" Newton-type solvers.\n",
    "\n",
    "### Exercise 8: more optional additional work   <a class=\"anchor\" name=\"ex8\"></a>\n",
    "\n",
    "Expand beyond 1 dimension!"
   ]
  }
 ],
 "metadata": {
  "kernelspec": {
   "display_name": "Python 3",
   "language": "python",
   "name": "python3"
  },
  "language_info": {
   "codemirror_mode": {
    "name": "ipython",
    "version": 3
   },
   "file_extension": ".py",
   "mimetype": "text/x-python",
   "name": "python",
   "nbconvert_exporter": "python",
   "pygments_lexer": "ipython3",
   "version": "3.7.0"
  }
 },
 "nbformat": 4,
 "nbformat_minor": 1
}
